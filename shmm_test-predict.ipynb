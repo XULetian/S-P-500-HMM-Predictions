{
 "cells": [
  {
   "cell_type": "code",
   "execution_count": 2,
   "metadata": {
    "colab": {
     "base_uri": "https://localhost:8080/",
     "height": 368
    },
    "colab_type": "code",
    "executionInfo": {
     "elapsed": 518,
     "status": "error",
     "timestamp": 1541373898612,
     "user": {
      "displayName": "Caroline Cao",
      "photoUrl": "",
      "userId": "03804353919099366231"
     },
     "user_tz": 360
    },
    "id": "jR-ZFMYUCw7p",
    "outputId": "24fcfda1-5a59-427f-be5e-847c823e51d0"
   },
   "outputs": [],
   "source": [
    "%matplotlib inline\n",
    "\n",
    "import warnings\n",
    "import time\n",
    "import sys\n",
    "import numpy as np\n",
    "import matplotlib.pyplot as plt\n",
    "from hmmlearn import hmm\n",
    "\n",
    "import random\n",
    "import pandas as pd\n",
    "\n",
    "pd.options.mode.use_inf_as_na = True\n",
    "# warnings.filterwarnings(\"ignore\", category=DeprecationWarning)"
   ]
  },
  {
   "cell_type": "code",
   "execution_count": 3,
   "metadata": {
    "colab": {},
    "colab_type": "code",
    "id": "gr7dY9kdCw7t"
   },
   "outputs": [],
   "source": [
    "NUM_TEST = 100\n",
    "NUM_ITERS=10000\n",
    "DEFAULT_TOL = 1e-12"
   ]
  },
  {
   "cell_type": "code",
   "execution_count": 4,
   "metadata": {
    "colab": {},
    "colab_type": "code",
    "id": "ypAoNlKcCw7v"
   },
   "outputs": [],
   "source": [
    "likelihood_vect = np.empty([0,1])\n",
    "aic_vect = np.empty([0,1])\n",
    "bic_vect = np.empty([0,1])\n",
    "\n",
    "# Possible number of states in Markov Model\n",
    "STATE_SPACE = range(2,15)"
   ]
  },
  {
   "cell_type": "code",
   "execution_count": 5,
   "metadata": {
    "colab": {},
    "colab_type": "code",
    "id": "yEIRbfdtCw7x"
   },
   "outputs": [],
   "source": [
    "csv_data = pd.read_csv('SP500.csv')\n",
    "\n",
    "Date = csv_data['Date']\n",
    "Close = csv_data['Close']"
   ]
  },
  {
   "cell_type": "code",
   "execution_count": 6,
   "metadata": {
    "colab": {},
    "colab_type": "code",
    "id": "eyztLaO5Cw7z",
    "outputId": "173b771a-ab4b-46c7-cc56-c8b1418bf7b5"
   },
   "outputs": [
    {
     "data": {
      "text/html": [
       "<div>\n",
       "<style scoped>\n",
       "    .dataframe tbody tr th:only-of-type {\n",
       "        vertical-align: middle;\n",
       "    }\n",
       "\n",
       "    .dataframe tbody tr th {\n",
       "        vertical-align: top;\n",
       "    }\n",
       "\n",
       "    .dataframe thead th {\n",
       "        text-align: right;\n",
       "    }\n",
       "</style>\n",
       "<table border=\"1\" class=\"dataframe\">\n",
       "  <thead>\n",
       "    <tr style=\"text-align: right;\">\n",
       "      <th></th>\n",
       "      <th>Open</th>\n",
       "      <th>High</th>\n",
       "      <th>Low</th>\n",
       "      <th>Close</th>\n",
       "    </tr>\n",
       "  </thead>\n",
       "  <tbody>\n",
       "    <tr>\n",
       "      <th>0</th>\n",
       "      <td>16.66</td>\n",
       "      <td>16.66</td>\n",
       "      <td>16.66</td>\n",
       "      <td>16.66</td>\n",
       "    </tr>\n",
       "    <tr>\n",
       "      <th>1</th>\n",
       "      <td>16.85</td>\n",
       "      <td>16.85</td>\n",
       "      <td>16.85</td>\n",
       "      <td>16.85</td>\n",
       "    </tr>\n",
       "    <tr>\n",
       "      <th>2</th>\n",
       "      <td>16.93</td>\n",
       "      <td>16.93</td>\n",
       "      <td>16.93</td>\n",
       "      <td>16.93</td>\n",
       "    </tr>\n",
       "    <tr>\n",
       "      <th>3</th>\n",
       "      <td>16.98</td>\n",
       "      <td>16.98</td>\n",
       "      <td>16.98</td>\n",
       "      <td>16.98</td>\n",
       "    </tr>\n",
       "    <tr>\n",
       "      <th>4</th>\n",
       "      <td>17.08</td>\n",
       "      <td>17.08</td>\n",
       "      <td>17.08</td>\n",
       "      <td>17.08</td>\n",
       "    </tr>\n",
       "  </tbody>\n",
       "</table>\n",
       "</div>"
      ],
      "text/plain": [
       "    Open   High    Low  Close\n",
       "0  16.66  16.66  16.66  16.66\n",
       "1  16.85  16.85  16.85  16.85\n",
       "2  16.93  16.93  16.93  16.93\n",
       "3  16.98  16.98  16.98  16.98\n",
       "4  17.08  17.08  17.08  17.08"
      ]
     },
     "execution_count": 6,
     "metadata": {},
     "output_type": "execute_result"
    }
   ],
   "source": [
    "# clean up data\n",
    "# delete extra data (Date[0],Adj Close[4], Volume[5]) and leave Open/Hight/Low/Close\n",
    "del(csv_data['Date'])\n",
    "del(csv_data['Adj Close'])\n",
    "del(csv_data['Volume'])\n",
    "\n",
    "csv_data.head()"
   ]
  },
  {
   "cell_type": "code",
   "execution_count": 7,
   "metadata": {
    "colab": {},
    "colab_type": "code",
    "id": "vRXvYP9HCw74"
   },
   "outputs": [],
   "source": [
    "# csv_data['Volume'] = (csv_data['Volume'] / 1000).astype(int) / 100\n",
    "# csv_data.head()"
   ]
  },
  {
   "cell_type": "code",
   "execution_count": 8,
   "metadata": {
    "colab": {},
    "colab_type": "code",
    "id": "s7YCu-WUCw76"
   },
   "outputs": [],
   "source": [
    "def get_exp_preprocessing(df,alpha=0.9):\n",
    "    edata = df.ewm(alpha=alpha).mean()\n",
    "    return edata"
   ]
  },
  {
   "cell_type": "code",
   "execution_count": 9,
   "metadata": {
    "colab": {},
    "colab_type": "code",
    "id": "GRPhZgAzCw79",
    "outputId": "073c40ae-3c65-4ef0-b82e-76d0d2704125"
   },
   "outputs": [
    {
     "data": {
      "text/html": [
       "<div>\n",
       "<style scoped>\n",
       "    .dataframe tbody tr th:only-of-type {\n",
       "        vertical-align: middle;\n",
       "    }\n",
       "\n",
       "    .dataframe tbody tr th {\n",
       "        vertical-align: top;\n",
       "    }\n",
       "\n",
       "    .dataframe thead th {\n",
       "        text-align: right;\n",
       "    }\n",
       "</style>\n",
       "<table border=\"1\" class=\"dataframe\">\n",
       "  <thead>\n",
       "    <tr style=\"text-align: right;\">\n",
       "      <th></th>\n",
       "      <th>Open</th>\n",
       "      <th>High</th>\n",
       "      <th>Low</th>\n",
       "      <th>Close</th>\n",
       "    </tr>\n",
       "  </thead>\n",
       "  <tbody>\n",
       "    <tr>\n",
       "      <th>0</th>\n",
       "      <td>16.660000</td>\n",
       "      <td>16.660000</td>\n",
       "      <td>16.660000</td>\n",
       "      <td>16.660000</td>\n",
       "    </tr>\n",
       "    <tr>\n",
       "      <th>1</th>\n",
       "      <td>16.832727</td>\n",
       "      <td>16.832727</td>\n",
       "      <td>16.832727</td>\n",
       "      <td>16.832727</td>\n",
       "    </tr>\n",
       "    <tr>\n",
       "      <th>2</th>\n",
       "      <td>16.920360</td>\n",
       "      <td>16.920360</td>\n",
       "      <td>16.920360</td>\n",
       "      <td>16.920360</td>\n",
       "    </tr>\n",
       "    <tr>\n",
       "      <th>3</th>\n",
       "      <td>16.974041</td>\n",
       "      <td>16.974041</td>\n",
       "      <td>16.974041</td>\n",
       "      <td>16.974041</td>\n",
       "    </tr>\n",
       "    <tr>\n",
       "      <th>4</th>\n",
       "      <td>17.069405</td>\n",
       "      <td>17.069405</td>\n",
       "      <td>17.069405</td>\n",
       "      <td>17.069405</td>\n",
       "    </tr>\n",
       "  </tbody>\n",
       "</table>\n",
       "</div>"
      ],
      "text/plain": [
       "        Open       High        Low      Close\n",
       "0  16.660000  16.660000  16.660000  16.660000\n",
       "1  16.832727  16.832727  16.832727  16.832727\n",
       "2  16.920360  16.920360  16.920360  16.920360\n",
       "3  16.974041  16.974041  16.974041  16.974041\n",
       "4  17.069405  17.069405  17.069405  17.069405"
      ]
     },
     "execution_count": 9,
     "metadata": {},
     "output_type": "execute_result"
    }
   ],
   "source": [
    "dataset = get_exp_preprocessing(csv_data)\n",
    "dataset.head()"
   ]
  },
  {
   "cell_type": "code",
   "execution_count": 10,
   "metadata": {},
   "outputs": [
    {
     "data": {
      "text/plain": [
       "(17320, 4)"
      ]
     },
     "execution_count": 10,
     "metadata": {},
     "output_type": "execute_result"
    }
   ],
   "source": [
    "dataset.shape"
   ]
  },
  {
   "cell_type": "code",
   "execution_count": 11,
   "metadata": {
    "colab": {},
    "colab_type": "code",
    "id": "gFsQ67NnCw8A"
   },
   "outputs": [],
   "source": [
    "# dataset = (dataset*100).astype(int)/100\n",
    "# dataset[:,-1] = dataset[:,-1] / 1000"
   ]
  },
  {
   "cell_type": "code",
   "execution_count": 12,
   "metadata": {
    "colab": {},
    "colab_type": "code",
    "id": "wu_d6gt0Cw8D"
   },
   "outputs": [],
   "source": [
    "predicted_stock_data = np.empty([0,dataset.shape[1]])\n",
    "likelihood_vect = np.empty([0,1])\n",
    "aic_vect = np.empty([0,1])\n",
    "bic_vect = np.empty([0,1])"
   ]
  },
  {
   "cell_type": "code",
   "execution_count": 13,
   "metadata": {
    "colab": {},
    "colab_type": "code",
    "id": "rDuLvlcxCw8F"
   },
   "outputs": [],
   "source": [
    "dataset = np.array(dataset)"
   ]
  },
  {
   "cell_type": "code",
   "execution_count": 14,
   "metadata": {
    "colab": {},
    "colab_type": "code",
    "id": "pc5IEBZqCw8H"
   },
   "outputs": [],
   "source": [
    "# TEST START 1"
   ]
  },
  {
   "cell_type": "code",
   "execution_count": 15,
   "metadata": {
    "colab": {},
    "colab_type": "code",
    "id": "MCKgvjXUCw8J",
    "outputId": "c8b22c0f-b278-4a47-9943-3147d20d5941"
   },
   "outputs": [
    {
     "data": {
      "text/plain": [
       "GaussianHMM(algorithm='viterbi', covariance_type='full', covars_prior=0.01,\n",
       "      covars_weight=1, init_params='stmc', means_prior=0, means_weight=0,\n",
       "      min_covar=0.001, n_components=10, n_iter=10000, params='stmc',\n",
       "      random_state=None, startprob_prior=1.0, tol=1e-12,\n",
       "      transmat_prior=1.0, verbose=False)"
      ]
     },
     "execution_count": 15,
     "metadata": {},
     "output_type": "execute_result"
    }
   ],
   "source": [
    "states = 10\n",
    "\n",
    "num_params = states**2 + states\n",
    "dirichlet_params_states = np.random.randint(1,50,states)\n",
    "#model = hmm.GaussianHMM(n_components=states, covariance_type='full', startprob_prior=dirichlet_params_states, transmat_prior=dirichlet_params_states, tol=0.0001, n_iter=NUM_ITERS, init_params='mc')\n",
    "model = hmm.GaussianHMM(n_components=states, covariance_type='full', tol=DEFAULT_TOL, n_iter=NUM_ITERS)\n",
    "# model.fit(dataset[1:,:])\n",
    "model.fit(dataset)\n",
    "\n",
    "# if model.monitor_.iter == NUM_ITERS:\n",
    "#     print('Increase number of iterations')\n",
    "#     sys.exit(1)\n",
    "# likelihood_vect = np.vstack((likelihood_vect, model.score(dataset)))"
   ]
  },
  {
   "cell_type": "code",
   "execution_count": 16,
   "metadata": {
    "colab": {},
    "colab_type": "code",
    "id": "KKnk_4vyCw8P"
   },
   "outputs": [],
   "source": [
    "state_sequence = model.predict(dataset)"
   ]
  },
  {
   "cell_type": "code",
   "execution_count": 17,
   "metadata": {
    "colab": {},
    "colab_type": "code",
    "id": "BNz7Q_ksCw8R",
    "outputId": "5d3b9df5-d4ed-43e4-bb51-afe2fec4db8d"
   },
   "outputs": [
    {
     "data": {
      "text/plain": [
       "array([5, 5, 5, ..., 4, 4, 4])"
      ]
     },
     "execution_count": 17,
     "metadata": {},
     "output_type": "execute_result"
    }
   ],
   "source": [
    "state_sequence"
   ]
  },
  {
   "cell_type": "code",
   "execution_count": null,
   "metadata": {},
   "outputs": [],
   "source": [
    "plt.figure(figsize=(25,18))\n",
    "for i in range(model.n_components):\n",
    "    pos = (state_sequence == i)\n",
    "    plt.plot_date(Date[pos],Close[pos],'o',label='hidden state %d'%i,lw=2)\n",
    "    plt.legend(loc='upper left')"
   ]
  },
  {
   "cell_type": "code",
   "execution_count": 23,
   "metadata": {},
   "outputs": [],
   "source": [
    "state_sum = {}\n",
    "state_meaning = {}\n",
    "state_num_negative = {}\n",
    "state_num_postive = {}\n",
    "for i in range(len(state_sequence)-1):\n",
    "    x = state_sequence[i]\n",
    "    state_sum[x] = state_sum.get(x, 0) + 1\n",
    "    dif_change = (dataset[i+1][1] - dataset[i][1])\n",
    "    state_meaning[x] = state_sum.get(x, 0) + dif_change\n",
    "    if dif_change > 0:\n",
    "        state_num_postive[x] = state_num_postive.get(x, 0) + 1\n",
    "    else:\n",
    "        state_num_negative[x] = state_num_negative.get(x, 0) + 1\n"
   ]
  },
  {
   "cell_type": "code",
   "execution_count": 24,
   "metadata": {},
   "outputs": [
    {
     "data": {
      "text/plain": [
       "{0: 1333,\n",
       " 1: 582,\n",
       " 2: 332,\n",
       " 3: 105,\n",
       " 4: 1557,\n",
       " 5: 692,\n",
       " 6: 428,\n",
       " 7: 2409,\n",
       " 8: 256,\n",
       " 9: 305}"
      ]
     },
     "execution_count": 24,
     "metadata": {},
     "output_type": "execute_result"
    }
   ],
   "source": [
    "state_num_negative"
   ]
  },
  {
   "cell_type": "code",
   "execution_count": 25,
   "metadata": {},
   "outputs": [
    {
     "data": {
      "text/plain": [
       "{0: 1700,\n",
       " 1: 502,\n",
       " 2: 480,\n",
       " 3: 96,\n",
       " 4: 1863,\n",
       " 5: 374,\n",
       " 6: 515,\n",
       " 7: 2593,\n",
       " 8: 254,\n",
       " 9: 943}"
      ]
     },
     "execution_count": 25,
     "metadata": {},
     "output_type": "execute_result"
    }
   ],
   "source": [
    "state_num_postive"
   ]
  },
  {
   "cell_type": "code",
   "execution_count": 27,
   "metadata": {},
   "outputs": [
    {
     "name": "stdout",
     "output_type": "stream",
     "text": [
      "0 {'avg': 1.000233549941793, 'postive': 0.5605011539729641, 'negative': 0.4394988460270359}\n",
      "1 {'avg': 0.9995593395851032, 'postive': 0.46309963099630996, 'negative': 0.5369003690036901}\n",
      "2 {'avg': 1.008905188764099, 'postive': 0.5911330049261084, 'negative': 0.4088669950738916}\n",
      "3 {'avg': 0.9046146152625372, 'postive': 0.4752475247524752, 'negative': 0.5198019801980198}\n",
      "4 {'avg': 1.000288506528792, 'postive': 0.5447368421052632, 'negative': 0.45526315789473687}\n",
      "5 {'avg': 1.0009012004240982, 'postive': 0.350844277673546, 'negative': 0.649155722326454}\n",
      "6 {'avg': 1.0017902179928495, 'postive': 0.5461293743372216, 'negative': 0.45387062566277836}\n",
      "7 {'avg': 1.0005966732832923, 'postive': 0.5183926429428228, 'negative': 0.4816073570571771}\n",
      "8 {'avg': 0.9517781044342446, 'postive': 0.4980392156862745, 'negative': 0.5019607843137255}\n",
      "9 {'avg': 1.0023846622968915, 'postive': 0.7556089743589743, 'negative': 0.24439102564102563}\n"
     ]
    }
   ],
   "source": [
    "state_change = {}\n",
    "for i in range(len(state_meaning)):\n",
    "    state_change[i] = {\"avg\":state_meaning[i] / state_sum[i], \n",
    "                       \"postive\":state_num_postive[i]/state_sum[i], \n",
    "                       \"negative\":state_num_negative[i]/state_sum[i]}\n",
    "\n",
    "for k in state_change:\n",
    "    print(k, state_change[k])"
   ]
  },
  {
   "cell_type": "code",
   "execution_count": 26,
   "metadata": {
    "colab": {},
    "colab_type": "code",
    "id": "yQKmkEz-Cw8V",
    "outputId": "677a3258-52c1-40c7-d7b6-3f3bc51f1d0d"
   },
   "outputs": [
    {
     "name": "stdout",
     "output_type": "stream",
     "text": [
      "{0: 3033, 7: 5002, 4: 3420, 6: 943, 3: 202, 1: 1084, 9: 1248, 5: 1066, 2: 812, 8: 510}\n"
     ]
    }
   ],
   "source": [
    "state_sum = {}\n",
    "for x in state_sequence:\n",
    "    state_sum[x] = state_sum.get(x, 0) + 1\n",
    "    \n",
    "print(state_sum)"
   ]
  },
  {
   "cell_type": "code",
   "execution_count": 49,
   "metadata": {},
   "outputs": [
    {
     "data": {
      "text/plain": [
       "array([0.00000000e+000, 2.04922584e-034, 6.89911637e-149, 1.00000000e+000,\n",
       "       0.00000000e+000, 5.67921793e-129, 3.75201657e-073, 0.00000000e+000,\n",
       "       9.68063352e-021, 0.00000000e+000])"
      ]
     },
     "execution_count": 49,
     "metadata": {},
     "output_type": "execute_result"
    }
   ],
   "source": [
    "model.predict_proba(dataset)[17318]"
   ]
  },
  {
   "cell_type": "code",
   "execution_count": 66,
   "metadata": {
    "colab": {},
    "colab_type": "code",
    "id": "JmrOj4b6Cw8Z"
   },
   "outputs": [
    {
     "data": {
      "text/plain": [
       "(10, 10)"
      ]
     },
     "execution_count": 66,
     "metadata": {},
     "output_type": "execute_result"
    }
   ],
   "source": [
    "model.transmat_.shape"
   ]
  },
  {
   "cell_type": "code",
   "execution_count": 67,
   "metadata": {},
   "outputs": [
    {
     "data": {
      "text/plain": [
       "array([[9.99011532e-001, 4.87742615e-305, 0.00000000e+000,\n",
       "        4.92676431e-237, 3.00244464e-053, 0.00000000e+000,\n",
       "        1.79027489e-130, 9.88467876e-004, 0.00000000e+000,\n",
       "        0.00000000e+000],\n",
       "       [2.68244640e-283, 8.28692730e-001, 8.10289771e-023,\n",
       "        5.52544204e-002, 3.81105353e-070, 3.06045218e-002,\n",
       "        1.09322097e-002, 2.06665250e-180, 3.21963912e-030,\n",
       "        7.45161176e-002],\n",
       "       [0.00000000e+000, 3.20895136e-050, 8.56291636e-001,\n",
       "        1.77441729e-030, 5.47346924e-181, 8.61835722e-046,\n",
       "        2.10830864e-092, 0.00000000e+000, 1.43708364e-001,\n",
       "        1.53217292e-049],\n",
       "       [8.02442735e-214, 2.75155684e-001, 1.05417548e-025,\n",
       "        6.50053462e-001, 6.03159868e-036, 5.41760122e-007,\n",
       "        6.84369171e-003, 8.64408823e-127, 6.79466209e-002,\n",
       "        2.66459846e-010],\n",
       "       [3.89355645e-050, 4.41992613e-054, 2.75701995e-181,\n",
       "        2.06927342e-023, 9.76270692e-001, 4.03903355e-122,\n",
       "        1.25445997e-002, 1.11847088e-002, 2.22729668e-108,\n",
       "        3.08030476e-106],\n",
       "       [0.00000000e+000, 7.98807951e-002, 7.16507442e-006,\n",
       "        1.49250378e-003, 2.16290970e-142, 5.17894838e-001,\n",
       "        6.43597496e-024, 0.00000000e+000, 1.60839057e-016,\n",
       "        4.00724698e-001],\n",
       "       [7.86228573e-118, 1.25027530e-002, 6.61765006e-083,\n",
       "        1.69044572e-003, 4.55114437e-002, 3.94806081e-012,\n",
       "        9.38477778e-001, 5.06388179e-052, 1.62052933e-063,\n",
       "        1.81757904e-003],\n",
       "       [3.94479456e-004, 1.14138440e-166, 0.00000000e+000,\n",
       "        5.49268207e-116, 7.62408732e-003, 4.11427908e-299,\n",
       "        4.54981979e-043, 9.91981433e-001, 3.89340057e-244,\n",
       "        3.30372568e-280],\n",
       "       [0.00000000e+000, 3.05734245e-038, 2.18430185e-001,\n",
       "        3.16414928e-002, 2.07863445e-122, 8.94070400e-034,\n",
       "        2.74502732e-064, 5.61496719e-269, 7.49928322e-001,\n",
       "        1.53997706e-041],\n",
       "       [0.00000000e+000, 1.79017931e-002, 8.69967443e-004,\n",
       "        6.01274955e-004, 3.75162346e-109, 4.61388794e-001,\n",
       "        1.28864662e-018, 1.17067890e-259, 7.13332311e-014,\n",
       "        5.19238170e-001]])"
      ]
     },
     "execution_count": 67,
     "metadata": {},
     "output_type": "execute_result"
    }
   ],
   "source": [
    "model.transmat_"
   ]
  },
  {
   "cell_type": "code",
   "execution_count": 0,
   "metadata": {
    "colab": {},
    "colab_type": "code",
    "id": "q-u-S1ECCw8b"
   },
   "outputs": [],
   "source": [
    "prob_next_step = model.transmat_[state_sequence[-1], :]"
   ]
  },
  {
   "cell_type": "code",
   "execution_count": 0,
   "metadata": {
    "colab": {},
    "colab_type": "code",
    "id": "JaV9SXMuCw8d",
    "outputId": "2877d8e3-267d-4433-c36c-8980ccc29011"
   },
   "outputs": [
    {
     "data": {
      "text/plain": [
       "array([1.74163913e-215, 5.82987900e-002, 2.07399929e-205, 7.41386677e-162,\n",
       "       1.07778966e-063, 1.79698744e-001, 2.98098836e-001, 6.45560179e-134,\n",
       "       2.99606810e-001, 1.64296819e-001])"
      ]
     },
     "execution_count": 16,
     "metadata": {
      "tags": []
     },
     "output_type": "execute_result"
    }
   ],
   "source": [
    "prob_next_step"
   ]
  },
  {
   "cell_type": "code",
   "execution_count": 63,
   "metadata": {},
   "outputs": [],
   "source": [
    "logprob, posteriors = model.score_samples(dataset)"
   ]
  },
  {
   "cell_type": "code",
   "execution_count": 65,
   "metadata": {},
   "outputs": [
    {
     "data": {
      "text/plain": [
       "(17320, 10)"
      ]
     },
     "execution_count": 65,
     "metadata": {},
     "output_type": "execute_result"
    }
   ],
   "source": [
    "posteriors"
   ]
  },
  {
   "cell_type": "code",
   "execution_count": null,
   "metadata": {},
   "outputs": [],
   "source": []
  },
  {
   "cell_type": "code",
   "execution_count": null,
   "metadata": {},
   "outputs": [],
   "source": []
  },
  {
   "cell_type": "code",
   "execution_count": 52,
   "metadata": {
    "colab": {},
    "colab_type": "code",
    "id": "dpljsc9ZCw8l"
   },
   "outputs": [],
   "source": [
    "curr_likelihood = model.score(dataset)"
   ]
  },
  {
   "cell_type": "code",
   "execution_count": 53,
   "metadata": {
    "colab": {},
    "colab_type": "code",
    "id": "0XSD-1lrCw8o",
    "outputId": "2a241147-133d-43a8-a09c-0f1877cf11fc"
   },
   "outputs": [
    {
     "data": {
      "text/plain": [
       "-65173.65827326065"
      ]
     },
     "execution_count": 53,
     "metadata": {},
     "output_type": "execute_result"
    }
   ],
   "source": [
    "curr_likelihood"
   ]
  },
  {
   "cell_type": "code",
   "execution_count": 56,
   "metadata": {
    "colab": {},
    "colab_type": "code",
    "id": "jvgFfi_kCw8s"
   },
   "outputs": [],
   "source": [
    "iters = 1;\n",
    "past_likelihood = []\n",
    "num_examples = dataset.shape[0]\n",
    "K = 5\n",
    "while iters < num_examples / K - 1:\n",
    "    past_likelihood = np.append(past_likelihood, model.score((dataset[iters:iters + K - 1, :])))\n",
    "    iters = iters + 1"
   ]
  },
  {
   "cell_type": "code",
   "execution_count": 57,
   "metadata": {
    "colab": {},
    "colab_type": "code",
    "id": "qDejPCmKCw8t",
    "outputId": "8735fb87-8337-46f0-921e-f17e233fccb9"
   },
   "outputs": [
    {
     "name": "stdout",
     "output_type": "stream",
     "text": [
      "17320\n",
      "[ 118.46018291  118.47886072  118.49404198 ... -300.4091593  -299.09981271\n",
      " -299.20326895]\n",
      "-65173.65827326065\n",
      "3463\n",
      "5\n"
     ]
    }
   ],
   "source": [
    "print(num_examples)\n",
    "print(past_likelihood)\n",
    "print(curr_likelihood)\n",
    "print(iters)\n",
    "print(K)"
   ]
  },
  {
   "cell_type": "code",
   "execution_count": 68,
   "metadata": {
    "colab": {},
    "colab_type": "code",
    "id": "bw1WRiMmCw8w",
    "outputId": "233f992b-0a13-4e7e-d756-4b41df8e4b8b"
   },
   "outputs": [
    {
     "data": {
      "text/plain": [
       "3115"
      ]
     },
     "execution_count": 68,
     "metadata": {},
     "output_type": "execute_result"
    }
   ],
   "source": [
    "likelihood_diff_idx = np.argmin(np.absolute(past_likelihood - curr_likelihood))\n",
    "likelihood_diff_idx"
   ]
  },
  {
   "cell_type": "code",
   "execution_count": 69,
   "metadata": {
    "colab": {},
    "colab_type": "code",
    "id": "_EMBYuKsCw8y",
    "outputId": "aa8e9419-5928-49c5-a0ac-d0084e6d3f88"
   },
   "outputs": [
    {
     "data": {
      "text/plain": [
       "array([ 3.42293325,  0.94667497,  2.39605452, -1.95378856])"
      ]
     },
     "execution_count": 69,
     "metadata": {},
     "output_type": "execute_result"
    }
   ],
   "source": [
    "predicted_change = dataset[likelihood_diff_idx,:] - dataset[likelihood_diff_idx + 1,:]\n",
    "predicted_change"
   ]
  },
  {
   "cell_type": "code",
   "execution_count": 0,
   "metadata": {
    "colab": {},
    "colab_type": "code",
    "id": "RqtPr613Cw83"
   },
   "outputs": [],
   "source": [
    "# TEST END 1"
   ]
  },
  {
   "cell_type": "markdown",
   "metadata": {
    "colab_type": "raw",
    "id": "bE17I0SxCw86",
    "scrolled": true
   },
   "source": [
    "for states in STATE_SPACE:\n",
    "    print(states)\n",
    "    num_params = states**2 + states\n",
    "    dirichlet_params_states = np.random.randint(1,50,states)\n",
    "    #model = hmm.GaussianHMM(n_components=states, covariance_type='full', startprob_prior=dirichlet_params_states, transmat_prior=dirichlet_params_states, tol=0.0001, n_iter=NUM_ITERS, init_params='mc')\n",
    "    model = hmm.GaussianHMM(n_components=states, covariance_type='full', tol=DEFAULT_TOL, n_iter=NUM_ITERS)\n",
    "    model.fit(dataset[NUM_TEST:,:])\n",
    "    if model.monitor_.iter == NUM_ITERS:\n",
    "        print('Increase number of iterations')\n",
    "        sys.exit(1)\n",
    "    likelihood_vect = np.vstack((likelihood_vect, model.score(dataset)))\n",
    "    aic_vect = np.vstack((aic_vect, -2 * model.score(dataset) + 2 * num_params))\n",
    "    bic_vect = np.vstack((bic_vect, -2 * model.score(dataset) +  num_params * np.log(dataset.shape[0])))\n",
    "\n",
    "opt_states = np.argmin(bic_vect) + 2\n",
    "print('Optimum number of states are {}'.format(opt_states))"
   ]
  },
  {
   "cell_type": "markdown",
   "metadata": {
    "colab_type": "raw",
    "id": "ibdyskr9Cw88"
   },
   "source": [
    "for idx in reversed(range(NUM_TEST)):\n",
    "    train_dataset = dataset[idx + 1:,:]\n",
    "    test_data = dataset[idx,:]; \n",
    "    num_examples = train_dataset.shape[0]\n",
    "    #model = hmm.GaussianHMM(n_components=opt_states, covariance_type='full', startprob_prior=dirichlet_params, transmat_prior=dirichlet_params, tol=0.0001, n_iter=NUM_ITERS, init_params='mc')\n",
    "    if idx == NUM_TEST - 1:\n",
    "        model = hmm.GaussianHMM(n_components=opt_states, covariance_type='full', tol=DEFAULT_TOL, n_iter=NUM_ITERS, init_params='stmc')\n",
    "    else:\n",
    "        # Retune the model by using the HMM paramters from the previous iterations as the prior\n",
    "        model = hmm.GaussianHMM(n_components=opt_states, covariance_type='full', tol=DEFAULT_TOL, n_iter=NUM_ITERS, init_params='')\n",
    "        model.transmat_ = transmat_retune_prior \n",
    "        model.startprob_ = startprob_retune_prior\n",
    "        model.means_ = means_retune_prior\n",
    "        model.covars_ = covars_retune_prior\n",
    "\n",
    "    model.fit(np.flipud(train_dataset))\n",
    "\n",
    "    transmat_retune_prior = model.transmat_\n",
    "    startprob_retune_prior = model.startprob_\n",
    "    means_retune_prior = model.means_\n",
    "    covars_retune_prior = model.covars_\n",
    "\n",
    "    if model.monitor_.iter == NUM_ITERS:\n",
    "        print('Increase number of iterations')\n",
    "        sys.exit(1)\n",
    "    #print('Model score : ', model.score(dataset))\n",
    "    #print('Dirichlet parameters : ',dirichlet_params)\n",
    "\n",
    "    iters = 1;\n",
    "    past_likelihood = []\n",
    "    curr_likelihood = model.score(np.flipud(train_dataset[0:K - 1, :]))\n",
    "    while iters < num_examples / K - 1:\n",
    "        past_likelihood = np.append(past_likelihood, model.score(np.flipud(train_dataset[iters:iters + K - 1, :])))\n",
    "        iters = iters + 1\n",
    "    likelihood_diff_idx = np.argmin(np.absolute(past_likelihood - curr_likelihood))\n",
    "    predicted_change = train_dataset[likelihood_diff_idx,:] - train_dataset[likelihood_diff_idx + 1,:]\n",
    "    predicted_stock_data = np.vstack((predicted_stock_data, dataset[idx + 1,:] + predicted_change))\n",
    "np.savetxt('{}_forecast.csv'.format(stock),predicted_stock_data,delimiter=',',fmt='%.2f')"
   ]
  },
  {
   "cell_type": "markdown",
   "metadata": {
    "colab_type": "raw",
    "id": "i_AcCvtvCw89"
   },
   "source": [
    "def calc_mape(predicted_data, true_data):\n",
    "    return np.divide(np.sum(np.divide(np.absolute(predicted_data - true_data), true_data), 0), true_data.shape[0])"
   ]
  },
  {
   "cell_type": "markdown",
   "metadata": {
    "colab_type": "raw",
    "id": "mxOBeGHCCw8-"
   },
   "source": [
    "labels = ['Open','High','Low','Close','Volume']\n",
    "PLOT_TYPE = False"
   ]
  },
  {
   "cell_type": "markdown",
   "metadata": {
    "colab_type": "raw",
    "id": "troW7GviCw9A"
   },
   "source": [
    "mape = calc_mape(predicted_stock_data, np.flipud(dataset[range(100),:]))\n",
    "print('MAPE for the stock {} is '.format(stock),mape)\n",
    "\n",
    "if PLOT_TYPE:\n",
    "    hdl_p = plt.plot(range(100), predicted_stock_data);\n",
    "    plt.title('Predicted stock prices')\n",
    "    plt.legend(iter(hdl_p), ('Open','High','Low','Close','Volume'))\n",
    "    plt.xlabel('Time steps')\n",
    "    plt.ylabel('Price')\n",
    "    plt.figure()\n",
    "    hdl_a = plt.plot(range(100),np.flipud(dataset[range(100),:]))\n",
    "    plt.title('Actual stock prices')\n",
    "    plt.legend(iter(hdl_p), ('Open','High','Low','Close','Volume'))\n",
    "    plt.xlabel('Time steps')\n",
    "    plt.ylabel('Price')\n",
    "else:\n",
    "    for i in range(len(labels)):\n",
    "        plt.figure()\n",
    "        plt.plot(range(100), predicted_stock_data[:,i],'k-', label = 'Predicted '+labels[i]+' price');\n",
    "        plt.plot(range(100),np.flipud(dataset[range(100),i]),'r--', label = 'Actual '+labels[i]+' price')\n",
    "        plt.xlabel('Time steps')\n",
    "        plt.ylabel('Price')\n",
    "        plt.title(labels[i]+' price'+ ' for '+stock[:-4])\n",
    "        plt.grid(True)\n",
    "        plt.legend(loc = 'upper left')\n",
    "\n",
    "\n",
    "plt.show(block=False)"
   ]
  },
  {
   "cell_type": "code",
   "execution_count": 0,
   "metadata": {
    "colab": {},
    "colab_type": "code",
    "id": "DH0VOdenCw9B"
   },
   "outputs": [],
   "source": []
  }
 ],
 "metadata": {
  "colab": {
   "name": "shmm_test-predict.ipynb",
   "provenance": [],
   "version": "0.3.2"
  },
  "kernelspec": {
   "display_name": "Python 3",
   "language": "python",
   "name": "python3"
  },
  "language_info": {
   "codemirror_mode": {
    "name": "ipython",
    "version": 3
   },
   "file_extension": ".py",
   "mimetype": "text/x-python",
   "name": "python",
   "nbconvert_exporter": "python",
   "pygments_lexer": "ipython3",
   "version": "3.6.4"
  }
 },
 "nbformat": 4,
 "nbformat_minor": 1
}
