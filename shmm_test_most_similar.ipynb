{
 "cells": [
  {
   "cell_type": "code",
   "execution_count": 1,
   "metadata": {},
   "outputs": [],
   "source": [
    "%matplotlib inline\n",
    "\n",
    "import warnings\n",
    "import time\n",
    "import sys\n",
    "import numpy as np\n",
    "import matplotlib.pyplot as plt\n",
    "from hmmlearn import hmm\n",
    "\n",
    "import random\n",
    "import pandas as pd\n",
    "\n",
    "pd.options.mode.use_inf_as_na = True\n",
    "# warnings.filterwarnings(\"ignore\", category=DeprecationWarning)"
   ]
  },
  {
   "cell_type": "code",
   "execution_count": 2,
   "metadata": {},
   "outputs": [],
   "source": [
    "NUM_ITERS=10000\n",
    "DEFAULT_TOL = 1e-12"
   ]
  },
  {
   "cell_type": "code",
   "execution_count": 3,
   "metadata": {},
   "outputs": [],
   "source": [
    "likelihood_vect = np.empty([0,1])\n",
    "aic_vect = np.empty([0,1])\n",
    "bic_vect = np.empty([0,1])\n",
    "\n",
    "# Possible number of states in Markov Model\n",
    "STATE_SPACE = range(2,15)"
   ]
  },
  {
   "cell_type": "code",
   "execution_count": 22,
   "metadata": {},
   "outputs": [],
   "source": [
    "stock = \"BABA\"\n",
    "# dataset = np.genfromtxt('../Dataset/' + stock + '.csv', delimiter=',')\n",
    "csv_data = pd.read_csv('../Dataset/' + stock + '.csv')"
   ]
  },
  {
   "cell_type": "code",
   "execution_count": 23,
   "metadata": {},
   "outputs": [
    {
     "data": {
      "text/html": [
       "<div>\n",
       "<style scoped>\n",
       "    .dataframe tbody tr th:only-of-type {\n",
       "        vertical-align: middle;\n",
       "    }\n",
       "\n",
       "    .dataframe tbody tr th {\n",
       "        vertical-align: top;\n",
       "    }\n",
       "\n",
       "    .dataframe thead th {\n",
       "        text-align: right;\n",
       "    }\n",
       "</style>\n",
       "<table border=\"1\" class=\"dataframe\">\n",
       "  <thead>\n",
       "    <tr style=\"text-align: right;\">\n",
       "      <th></th>\n",
       "      <th>Open</th>\n",
       "      <th>High</th>\n",
       "      <th>Low</th>\n",
       "      <th>Close</th>\n",
       "    </tr>\n",
       "  </thead>\n",
       "  <tbody>\n",
       "    <tr>\n",
       "      <th>0</th>\n",
       "      <td>92.699997</td>\n",
       "      <td>99.699997</td>\n",
       "      <td>89.949997</td>\n",
       "      <td>93.889999</td>\n",
       "    </tr>\n",
       "    <tr>\n",
       "      <th>1</th>\n",
       "      <td>92.699997</td>\n",
       "      <td>92.949997</td>\n",
       "      <td>89.500000</td>\n",
       "      <td>89.889999</td>\n",
       "    </tr>\n",
       "    <tr>\n",
       "      <th>2</th>\n",
       "      <td>88.940002</td>\n",
       "      <td>90.480003</td>\n",
       "      <td>86.620003</td>\n",
       "      <td>87.169998</td>\n",
       "    </tr>\n",
       "    <tr>\n",
       "      <th>3</th>\n",
       "      <td>88.470001</td>\n",
       "      <td>90.570000</td>\n",
       "      <td>87.220001</td>\n",
       "      <td>90.570000</td>\n",
       "    </tr>\n",
       "    <tr>\n",
       "      <th>4</th>\n",
       "      <td>91.089996</td>\n",
       "      <td>91.500000</td>\n",
       "      <td>88.500000</td>\n",
       "      <td>88.919998</td>\n",
       "    </tr>\n",
       "  </tbody>\n",
       "</table>\n",
       "</div>"
      ],
      "text/plain": [
       "        Open       High        Low      Close\n",
       "0  92.699997  99.699997  89.949997  93.889999\n",
       "1  92.699997  92.949997  89.500000  89.889999\n",
       "2  88.940002  90.480003  86.620003  87.169998\n",
       "3  88.470001  90.570000  87.220001  90.570000\n",
       "4  91.089996  91.500000  88.500000  88.919998"
      ]
     },
     "execution_count": 23,
     "metadata": {},
     "output_type": "execute_result"
    }
   ],
   "source": [
    "# clean up data\n",
    "# delete extra data (Date[0],Adj Close[4], Volume[5]) and leave Open/Hight/Low/Close\n",
    "del(csv_data['Date'])\n",
    "del(csv_data['Adj Close'])\n",
    "del(csv_data['Volume'])\n",
    "\n",
    "csv_data.head()"
   ]
  },
  {
   "cell_type": "code",
   "execution_count": 24,
   "metadata": {},
   "outputs": [],
   "source": [
    "# csv_data['Volume'] = (csv_data['Volume'] / 1000).astype(int) / 100\n",
    "# csv_data.head()"
   ]
  },
  {
   "cell_type": "code",
   "execution_count": 25,
   "metadata": {},
   "outputs": [],
   "source": [
    "def get_exp_preprocessing(df,alpha=0.9):\n",
    "    edata = df.ewm(alpha=alpha).mean()\n",
    "    return edata"
   ]
  },
  {
   "cell_type": "code",
   "execution_count": 26,
   "metadata": {},
   "outputs": [
    {
     "data": {
      "text/html": [
       "<div>\n",
       "<style scoped>\n",
       "    .dataframe tbody tr th:only-of-type {\n",
       "        vertical-align: middle;\n",
       "    }\n",
       "\n",
       "    .dataframe tbody tr th {\n",
       "        vertical-align: top;\n",
       "    }\n",
       "\n",
       "    .dataframe thead th {\n",
       "        text-align: right;\n",
       "    }\n",
       "</style>\n",
       "<table border=\"1\" class=\"dataframe\">\n",
       "  <thead>\n",
       "    <tr style=\"text-align: right;\">\n",
       "      <th></th>\n",
       "      <th>Open</th>\n",
       "      <th>High</th>\n",
       "      <th>Low</th>\n",
       "      <th>Close</th>\n",
       "    </tr>\n",
       "  </thead>\n",
       "  <tbody>\n",
       "    <tr>\n",
       "      <th>0</th>\n",
       "      <td>92.699997</td>\n",
       "      <td>99.699997</td>\n",
       "      <td>89.949997</td>\n",
       "      <td>93.889999</td>\n",
       "    </tr>\n",
       "    <tr>\n",
       "      <th>1</th>\n",
       "      <td>92.699997</td>\n",
       "      <td>93.563633</td>\n",
       "      <td>89.540909</td>\n",
       "      <td>90.253635</td>\n",
       "    </tr>\n",
       "    <tr>\n",
       "      <th>2</th>\n",
       "      <td>89.312614</td>\n",
       "      <td>90.785588</td>\n",
       "      <td>86.909462</td>\n",
       "      <td>87.475584</td>\n",
       "    </tr>\n",
       "    <tr>\n",
       "      <th>3</th>\n",
       "      <td>88.554186</td>\n",
       "      <td>90.591539</td>\n",
       "      <td>87.188975</td>\n",
       "      <td>90.260837</td>\n",
       "    </tr>\n",
       "    <tr>\n",
       "      <th>4</th>\n",
       "      <td>90.836438</td>\n",
       "      <td>91.409162</td>\n",
       "      <td>88.368909</td>\n",
       "      <td>89.054070</td>\n",
       "    </tr>\n",
       "  </tbody>\n",
       "</table>\n",
       "</div>"
      ],
      "text/plain": [
       "        Open       High        Low      Close\n",
       "0  92.699997  99.699997  89.949997  93.889999\n",
       "1  92.699997  93.563633  89.540909  90.253635\n",
       "2  89.312614  90.785588  86.909462  87.475584\n",
       "3  88.554186  90.591539  87.188975  90.260837\n",
       "4  90.836438  91.409162  88.368909  89.054070"
      ]
     },
     "execution_count": 26,
     "metadata": {},
     "output_type": "execute_result"
    }
   ],
   "source": [
    "dataset = get_exp_preprocessing(csv_data)\n",
    "dataset.head()"
   ]
  },
  {
   "cell_type": "code",
   "execution_count": 9,
   "metadata": {},
   "outputs": [],
   "source": [
    "# dataset = (dataset*100).astype(int)/100\n",
    "# dataset[:,-1] = dataset[:,-1] / 1000"
   ]
  },
  {
   "cell_type": "code",
   "execution_count": 27,
   "metadata": {},
   "outputs": [],
   "source": [
    "predicted_stock_data = np.empty([0,dataset.shape[1]])\n",
    "likelihood_vect = np.empty([0,1])\n",
    "aic_vect = np.empty([0,1])\n",
    "bic_vect = np.empty([0,1])"
   ]
  },
  {
   "cell_type": "code",
   "execution_count": 28,
   "metadata": {},
   "outputs": [],
   "source": [
    "dataset = np.array(dataset)"
   ]
  },
  {
   "cell_type": "raw",
   "metadata": {
    "scrolled": true
   },
   "source": [
    "for states in STATE_SPACE:\n",
    "    print(states)\n",
    "    num_params = states**2 + states\n",
    "    dirichlet_params_states = np.random.randint(1,50,states)\n",
    "    #model = hmm.GaussianHMM(n_components=states, covariance_type='full', startprob_prior=dirichlet_params_states, transmat_prior=dirichlet_params_states, tol=0.0001, n_iter=NUM_ITERS, init_params='mc')\n",
    "    model = hmm.GaussianHMM(n_components=states, covariance_type='full', tol=DEFAULT_TOL, n_iter=NUM_ITERS)\n",
    "    model.fit(dataset[NUM_TEST:,:])\n",
    "    if model.monitor_.iter == NUM_ITERS:\n",
    "        print('Increase number of iterations')\n",
    "        sys.exit(1)\n",
    "    likelihood_vect = np.vstack((likelihood_vect, model.score(dataset)))\n",
    "    aic_vect = np.vstack((aic_vect, -2 * model.score(dataset) + 2 * num_params))\n",
    "    bic_vect = np.vstack((bic_vect, -2 * model.score(dataset) +  num_params * np.log(dataset.shape[0])))\n",
    "\n",
    "opt_states = np.argmin(bic_vect) + 2\n",
    "print('Optimum number of states are {}'.format(opt_states))"
   ]
  },
  {
   "cell_type": "code",
   "execution_count": 29,
   "metadata": {},
   "outputs": [],
   "source": [
    "opt_states = 10\n",
    "K = 50"
   ]
  },
  {
   "cell_type": "code",
   "execution_count": 30,
   "metadata": {},
   "outputs": [],
   "source": [
    "model = hmm.GaussianHMM(n_components=opt_states, covariance_type='full', tol=DEFAULT_TOL, n_iter=NUM_ITERS, init_params='stmc')\n",
    "model.fit(dataset)\n",
    "\n",
    "curr_likelihood = model.score(dataset[-K:])"
   ]
  },
  {
   "cell_type": "code",
   "execution_count": 42,
   "metadata": {},
   "outputs": [],
   "source": [
    "all_pass_likelihood = []\n",
    "for idx in range(dataset.shape[0]-K-1):\n",
    "    all_pass_likelihood = np.append(all_pass_likelihood, model.score(dataset[idx:idx+K]))"
   ]
  },
  {
   "cell_type": "code",
   "execution_count": 45,
   "metadata": {},
   "outputs": [
    {
     "data": {
      "text/plain": [
       "846"
      ]
     },
     "execution_count": 45,
     "metadata": {},
     "output_type": "execute_result"
    }
   ],
   "source": [
    "# most last likelihood\n",
    "likelihood_diff_idx = np.argmin(np.absolute(all_pass_likelihood - curr_likelihood))\n",
    "likelihood_diff_idx"
   ]
  },
  {
   "cell_type": "code",
   "execution_count": 93,
   "metadata": {},
   "outputs": [],
   "source": [
    "# take first K items as init history data\n",
    "# test_pass_likelihood = all_pass_likelihood[K:-3]\n",
    "\n",
    "currect_rate = 0\n",
    "for i in range(K,all_pass_likelihood.shape[0]-K-3):\n",
    "    actual_idx = i+K+1\n",
    "    \n",
    "    item_test_pass_likelihood = all_pass_likelihood[:actual_idx]\n",
    "    item_test_cur_likelihood = all_pass_likelihood[actual_idx+1]\n",
    "    idx = K + np.argmin(np.absolute(item_test_pass_likelihood - item_test_cur_likelihood))\n",
    "    \n",
    "    # predict the price and percentage\n",
    "    diff_price = dataset[idx+1][3] - dataset[idx][3]\n",
    "    diff_price_percent = (dataset[idx+1][3] / dataset[idx][3]) - 1.0\n",
    "    \n",
    "    # use actual price to count the accuracy\n",
    "    actual_diff_price = dataset[actual_idx+1][3] - dataset[actual_idx][3]\n",
    "    actual_diff_percent = (dataset[actual_idx+1][3] / dataset[actual_idx][3]) - 1.0\n",
    "    \n",
    "    if (diff_price > 0 and actual_diff_price > 0) or (diff_price < 0 and actual_diff_price < 0):\n",
    "        currect_rate += 1"
   ]
  },
  {
   "cell_type": "code",
   "execution_count": 94,
   "metadata": {},
   "outputs": [
    {
     "name": "stdout",
     "output_type": "stream",
     "text": [
      "准确率 0.5067720090293454\n"
     ]
    }
   ],
   "source": [
    "# print(all_pass_likelihood.shape)\n",
    "# print(item_test_pass_likelihood.shape)\n",
    "# print(test_pass_likelihood.shape)\n",
    "# print(all_pass_likelihood[:K+i+1])\n",
    "# print(item_test_cur_likelihood)\n",
    "print(\"准确率\", currect_rate / (all_pass_likelihood.shape[0]-(K*2)-3))"
   ]
  },
  {
   "cell_type": "code",
   "execution_count": null,
   "metadata": {},
   "outputs": [],
   "source": []
  },
  {
   "cell_type": "code",
   "execution_count": null,
   "metadata": {},
   "outputs": [],
   "source": []
  },
  {
   "cell_type": "raw",
   "metadata": {},
   "source": [
    "for idx in reversed(range(NUM_TEST)):\n",
    "    train_dataset = dataset[idx + 1:,:]\n",
    "    test_data = dataset[idx,:]; \n",
    "    num_examples = train_dataset.shape[0]\n",
    "    #model = hmm.GaussianHMM(n_components=opt_states, covariance_type='full', startprob_prior=dirichlet_params, transmat_prior=dirichlet_params, tol=0.0001, n_iter=NUM_ITERS, init_params='mc')\n",
    "    if idx == NUM_TEST - 1:\n",
    "        model = hmm.GaussianHMM(n_components=opt_states, covariance_type='full', tol=DEFAULT_TOL, n_iter=NUM_ITERS, init_params='stmc')\n",
    "    else:\n",
    "        # Retune the model by using the HMM paramters from the previous iterations as the prior\n",
    "        model = hmm.GaussianHMM(n_components=opt_states, covariance_type='full', tol=DEFAULT_TOL, n_iter=NUM_ITERS, init_params='')\n",
    "        model.transmat_ = transmat_retune_prior \n",
    "        model.startprob_ = startprob_retune_prior\n",
    "        model.means_ = means_retune_prior\n",
    "        model.covars_ = covars_retune_prior\n",
    "\n",
    "    model.fit(np.flipud(train_dataset))\n",
    "\n",
    "    transmat_retune_prior = model.transmat_\n",
    "    startprob_retune_prior = model.startprob_\n",
    "    means_retune_prior = model.means_\n",
    "    covars_retune_prior = model.covars_\n",
    "\n",
    "    if model.monitor_.iter == NUM_ITERS:\n",
    "        print('Increase number of iterations')\n",
    "        sys.exit(1)\n",
    "    #print('Model score : ', model.score(dataset))\n",
    "    #print('Dirichlet parameters : ',dirichlet_params)\n",
    "\n",
    "    iters = 1;\n",
    "    past_likelihood = []\n",
    "    curr_likelihood = model.score(np.flipud(train_dataset[0:K - 1, :]))\n",
    "    while iters < num_examples / K - 1:\n",
    "        past_likelihood = np.append(past_likelihood, model.score(np.flipud(train_dataset[iters:iters + K - 1, :])))\n",
    "        iters = iters + 1\n",
    "    likelihood_diff_idx = np.argmin(np.absolute(past_likelihood - curr_likelihood))\n",
    "    predicted_change = train_dataset[likelihood_diff_idx,:] - train_dataset[likelihood_diff_idx + 1,:]\n",
    "    predicted_stock_data = np.vstack((predicted_stock_data, dataset[idx + 1,:] + predicted_change))\n",
    "np.savetxt('{}_forecast.csv'.format(stock),predicted_stock_data,delimiter=',',fmt='%.2f')"
   ]
  },
  {
   "cell_type": "raw",
   "metadata": {},
   "source": [
    "def calc_mape(predicted_data, true_data):\n",
    "    return np.divide(np.sum(np.divide(np.absolute(predicted_data - true_data), true_data), 0), true_data.shape[0])"
   ]
  },
  {
   "cell_type": "raw",
   "metadata": {},
   "source": [
    "labels = ['Open','High','Low','Close','Volume']\n",
    "PLOT_TYPE = False"
   ]
  },
  {
   "cell_type": "raw",
   "metadata": {},
   "source": [
    "mape = calc_mape(predicted_stock_data, np.flipud(dataset[range(100),:]))\n",
    "print('MAPE for the stock {} is '.format(stock),mape)\n",
    "\n",
    "if PLOT_TYPE:\n",
    "    hdl_p = plt.plot(range(100), predicted_stock_data);\n",
    "    plt.title('Predicted stock prices')\n",
    "    plt.legend(iter(hdl_p), ('Open','High','Low','Close','Volume'))\n",
    "    plt.xlabel('Time steps')\n",
    "    plt.ylabel('Price')\n",
    "    plt.figure()\n",
    "    hdl_a = plt.plot(range(100),np.flipud(dataset[range(100),:]))\n",
    "    plt.title('Actual stock prices')\n",
    "    plt.legend(iter(hdl_p), ('Open','High','Low','Close','Volume'))\n",
    "    plt.xlabel('Time steps')\n",
    "    plt.ylabel('Price')\n",
    "else:\n",
    "    for i in range(len(labels)):\n",
    "        plt.figure()\n",
    "        plt.plot(range(100), predicted_stock_data[:,i],'k-', label = 'Predicted '+labels[i]+' price');\n",
    "        plt.plot(range(100),np.flipud(dataset[range(100),i]),'r--', label = 'Actual '+labels[i]+' price')\n",
    "        plt.xlabel('Time steps')\n",
    "        plt.ylabel('Price')\n",
    "        plt.title(labels[i]+' price'+ ' for '+stock[:-4])\n",
    "        plt.grid(True)\n",
    "        plt.legend(loc = 'upper left')\n",
    "\n",
    "\n",
    "plt.show(block=False)"
   ]
  },
  {
   "cell_type": "code",
   "execution_count": null,
   "metadata": {},
   "outputs": [],
   "source": []
  }
 ],
 "metadata": {
  "kernelspec": {
   "display_name": "Python 3",
   "language": "python",
   "name": "python3"
  },
  "language_info": {
   "codemirror_mode": {
    "name": "ipython",
    "version": 3
   },
   "file_extension": ".py",
   "mimetype": "text/x-python",
   "name": "python",
   "nbconvert_exporter": "python",
   "pygments_lexer": "ipython3",
   "version": "3.6.4"
  }
 },
 "nbformat": 4,
 "nbformat_minor": 2
}
