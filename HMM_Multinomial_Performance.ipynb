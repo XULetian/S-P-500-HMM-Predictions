{
 "cells": [
  {
   "cell_type": "code",
   "execution_count": 1,
   "metadata": {},
   "outputs": [],
   "source": [
    "import warnings\n",
    "import time\n",
    "import datetime\n",
    "import sys\n",
    "import numpy as np\n",
    "\n",
    "from matplotlib import cm, pyplot as plt\n",
    "import matplotlib.dates as dates\n",
    "import hmmlearn\n",
    "from matplotlib.lines import Line2D\n",
    "from hmmlearn import hmm\n",
    "\n",
    "import random\n",
    "import pandas as pd\n",
    "from scipy import stats\n",
    "from sklearn import preprocessing\n",
    "from sklearn.metrics import confusion_matrix\n",
    "\n",
    "pd.options.mode.use_inf_as_na = True"
   ]
  },
  {
   "cell_type": "code",
   "execution_count": 2,
   "metadata": {},
   "outputs": [],
   "source": [
    "# Data Preprocessing: Transfer to Binary Situation\n",
    "df = pd.read_csv('SP500.csv')\n",
    "\n",
    "# Transfer column to list\n",
    "date_list = pd.to_datetime(df['Date'])\n",
    "volume_list = df['Volume']\n",
    "open_list = df['Volume']\n",
    "close_list = df['Close']\n",
    "\n",
    "# Transfer everyday's closing prices' difference in percentage to Binary Variable\n",
    "feature_1=np.diff(close_list)/close_list[:-1]\n",
    "rise_or_drop = []\n",
    "\n",
    "for i in range(0,17319):\n",
    "    if feature_1[i] > 0: \n",
    "        rise_or_drop.append(1)\n",
    "    else: rise_or_drop.append(0)\n",
    "        \n",
    "# Transfer everyday's volume prices' difference in percentage to Binary Variable\n",
    "feature_2=np.diff(volume_list)/volume_list[:-1]\n",
    "more_or_less = []\n",
    "\n",
    "for i in range(0,17319):\n",
    "    if feature_2[i] > 0: \n",
    "        more_or_less.append(1)\n",
    "    else: more_or_less.append(0)\n",
    "\n",
    "# Zip in a two-dimensional dataframe\n",
    "x = pd.DataFrame(list(zip(rise_or_drop,more_or_less)), \n",
    "             columns = ['Rise or Drop','More or Less'],\n",
    "            index = np.arange(1,17320,1))"
   ]
  },
  {
   "cell_type": "code",
   "execution_count": 3,
   "metadata": {},
   "outputs": [
    {
     "data": {
      "text/plain": [
       "(17320, 7)"
      ]
     },
     "execution_count": 3,
     "metadata": {},
     "output_type": "execute_result"
    }
   ],
   "source": [
    "df.shape"
   ]
  },
  {
   "cell_type": "code",
   "execution_count": 4,
   "metadata": {},
   "outputs": [
    {
     "data": {
      "text/html": [
       "<div>\n",
       "<style scoped>\n",
       "    .dataframe tbody tr th:only-of-type {\n",
       "        vertical-align: middle;\n",
       "    }\n",
       "\n",
       "    .dataframe tbody tr th {\n",
       "        vertical-align: top;\n",
       "    }\n",
       "\n",
       "    .dataframe thead th {\n",
       "        text-align: right;\n",
       "    }\n",
       "</style>\n",
       "<table border=\"1\" class=\"dataframe\">\n",
       "  <thead>\n",
       "    <tr style=\"text-align: right;\">\n",
       "      <th></th>\n",
       "      <th>Date</th>\n",
       "      <th>Open</th>\n",
       "      <th>High</th>\n",
       "      <th>Low</th>\n",
       "      <th>Close</th>\n",
       "      <th>Adj Close</th>\n",
       "      <th>Volume</th>\n",
       "    </tr>\n",
       "  </thead>\n",
       "  <tbody>\n",
       "    <tr>\n",
       "      <th>17315</th>\n",
       "      <td>2018-10-24</td>\n",
       "      <td>2737.870117</td>\n",
       "      <td>2742.590088</td>\n",
       "      <td>2651.889893</td>\n",
       "      <td>2656.100098</td>\n",
       "      <td>2656.100098</td>\n",
       "      <td>4709310000</td>\n",
       "    </tr>\n",
       "    <tr>\n",
       "      <th>17316</th>\n",
       "      <td>2018-10-25</td>\n",
       "      <td>2674.879883</td>\n",
       "      <td>2722.699951</td>\n",
       "      <td>2667.840088</td>\n",
       "      <td>2705.570068</td>\n",
       "      <td>2705.570068</td>\n",
       "      <td>4634770000</td>\n",
       "    </tr>\n",
       "    <tr>\n",
       "      <th>17317</th>\n",
       "      <td>2018-10-26</td>\n",
       "      <td>2667.860107</td>\n",
       "      <td>2692.379883</td>\n",
       "      <td>2628.159912</td>\n",
       "      <td>2658.689941</td>\n",
       "      <td>2658.689941</td>\n",
       "      <td>4803150000</td>\n",
       "    </tr>\n",
       "    <tr>\n",
       "      <th>17318</th>\n",
       "      <td>2018-10-29</td>\n",
       "      <td>2682.649902</td>\n",
       "      <td>2706.850098</td>\n",
       "      <td>2603.540039</td>\n",
       "      <td>2641.250000</td>\n",
       "      <td>2641.250000</td>\n",
       "      <td>4673700000</td>\n",
       "    </tr>\n",
       "    <tr>\n",
       "      <th>17319</th>\n",
       "      <td>2018-10-30</td>\n",
       "      <td>2640.679932</td>\n",
       "      <td>2685.429932</td>\n",
       "      <td>2635.340088</td>\n",
       "      <td>2682.629883</td>\n",
       "      <td>2682.629883</td>\n",
       "      <td>5106380000</td>\n",
       "    </tr>\n",
       "  </tbody>\n",
       "</table>\n",
       "</div>"
      ],
      "text/plain": [
       "             Date         Open         High          Low        Close  \\\n",
       "17315  2018-10-24  2737.870117  2742.590088  2651.889893  2656.100098   \n",
       "17316  2018-10-25  2674.879883  2722.699951  2667.840088  2705.570068   \n",
       "17317  2018-10-26  2667.860107  2692.379883  2628.159912  2658.689941   \n",
       "17318  2018-10-29  2682.649902  2706.850098  2603.540039  2641.250000   \n",
       "17319  2018-10-30  2640.679932  2685.429932  2635.340088  2682.629883   \n",
       "\n",
       "         Adj Close      Volume  \n",
       "17315  2656.100098  4709310000  \n",
       "17316  2705.570068  4634770000  \n",
       "17317  2658.689941  4803150000  \n",
       "17318  2641.250000  4673700000  \n",
       "17319  2682.629883  5106380000  "
      ]
     },
     "execution_count": 4,
     "metadata": {},
     "output_type": "execute_result"
    }
   ],
   "source": [
    "df.tail()"
   ]
  },
  {
   "cell_type": "code",
   "execution_count": 5,
   "metadata": {},
   "outputs": [
    {
     "data": {
      "image/png": "[encoded data removed]",
      "text/plain": [
       "<Figure size 1080x288 with 1 Axes>"
      ]
     },
     "metadata": {},
     "output_type": "display_data"
    }
   ],
   "source": [
    "# Binary Variable Plot in recent 120 days\n",
    "plt.figure(figsize=(15,4))\n",
    "plt.title(\"Rise or Drop on the S&P 500 Stock Closing Price\")\n",
    "color= ['red' if i == 1 else 'green' for i in rise_or_drop[17200:17321]]\n",
    "plt.scatter(np.arange(17200,17319,1),rise_or_drop[17200:17321],c=color)\n",
    "plt.xlabel(\"Days\")\n",
    "plt.ylabel(\"Rise or Drop\")\n",
    "legend_elements = [Line2D([0], [0], color='r',marker='o',label='Rise'),\n",
    "                   Line2D([0], [0], color='g',marker='o', label='Drop')]\n",
    "plt.legend(handles=legend_elements,loc=\"center left\")\n",
    "plt.show()"
   ]
  },
  {
   "cell_type": "code",
   "execution_count": 6,
   "metadata": {},
   "outputs": [
    {
     "data": {
      "image/png": "[encoded data removed]",
      "text/plain": [
       "<Figure size 1080x288 with 1 Axes>"
      ]
     },
     "metadata": {},
     "output_type": "display_data"
    }
   ],
   "source": [
    "# Closing Price Plot in recent 120 days\n",
    "plt.figure(figsize=(15,4))\n",
    "plt.plot(close_list[17200:17321])\n",
    "plt.title(\"S&P 500 Stock Closing Price\")\n",
    "plt.xlabel(\"Days\")\n",
    "plt.ylabel(\"Close Price\")\n",
    "plt.show()"
   ]
  },
  {
   "cell_type": "code",
   "execution_count": 7,
   "metadata": {},
   "outputs": [],
   "source": [
    "# Set up with training and testing datasets\n",
    "# First 56 years data which alomost 80% data will be training and rest 10 years will be testing\n",
    "training = x[0:13670]\n",
    "testing = x[13669:17320]\n",
    "testing = testing.set_index(np.arange(1,3651,1))"
   ]
  },
  {
   "cell_type": "code",
   "execution_count": 8,
   "metadata": {},
   "outputs": [],
   "source": [
    "# build HMM model\n",
    "from hmmlearn.hmm import MultinomialHMM\n",
    "model=hmm.MultinomialHMM(n_components=10, tol=1e-12, n_iter=1000)"
   ]
  },
  {
   "cell_type": "markdown",
   "metadata": {},
   "source": [
    "## Traning Result"
   ]
  },
  {
   "cell_type": "code",
   "execution_count": 9,
   "metadata": {},
   "outputs": [],
   "source": [
    "# Training Result\n",
    "model = model.fit(training)"
   ]
  },
  {
   "cell_type": "code",
   "execution_count": 10,
   "metadata": {},
   "outputs": [
    {
     "name": "stdout",
     "output_type": "stream",
     "text": [
      "The Accuracy of Training set by 10-HMM prediction on 5 days obeservation is 0.49\n",
      "The Sensitivity of Training set by 10-HMM prediction on 5 days obeservation is 0.4444444444444444\n",
      "The Specificity of Training set by 10-HMM prediction on 5 days obeservation is 0.5272727272727272\n",
      "The Accuracy of Training set by 10-HMM prediction on 10 days obeservation is 0.51\n",
      "The Sensitivity of Training set by 10-HMM prediction on 10 days obeservation is 0.4418604651162791\n",
      "The Specificity of Training set by 10-HMM prediction on 10 days obeservation is 0.5614035087719298\n",
      "The Accuracy of Training set by 10-HMM prediction on 15 days obeservation is 0.52\n",
      "The Sensitivity of Training set by 10-HMM prediction on 15 days obeservation is 0.5111111111111111\n",
      "The Specificity of Training set by 10-HMM prediction on 15 days obeservation is 0.5272727272727272\n",
      "The Accuracy of Training set by 10-HMM prediction on 20 days obeservation is 0.54\n",
      "The Sensitivity of Training set by 10-HMM prediction on 20 days obeservation is 0.5217391304347826\n",
      "The Specificity of Training set by 10-HMM prediction on 20 days obeservation is 0.5555555555555556\n",
      "The Accuracy of Training set by 10-HMM prediction on 25 days obeservation is 0.53\n",
      "The Sensitivity of Training set by 10-HMM prediction on 25 days obeservation is 0.425531914893617\n",
      "The Specificity of Training set by 10-HMM prediction on 25 days obeservation is 0.6226415094339622\n",
      "The Accuracy of Training set by 10-HMM prediction on 30 days obeservation is 0.46\n",
      "The Sensitivity of Training set by 10-HMM prediction on 30 days obeservation is 0.5\n",
      "The Specificity of Training set by 10-HMM prediction on 30 days obeservation is 0.42592592592592593\n",
      "The Accuracy of Training set by 10-HMM prediction on 35 days obeservation is 0.46\n",
      "The Sensitivity of Training set by 10-HMM prediction on 35 days obeservation is 0.3829787234042553\n",
      "The Specificity of Training set by 10-HMM prediction on 35 days obeservation is 0.5283018867924528\n",
      "The Accuracy of Training set by 10-HMM prediction on 40 days obeservation is 0.49\n",
      "The Sensitivity of Training set by 10-HMM prediction on 40 days obeservation is 0.5319148936170213\n",
      "The Specificity of Training set by 10-HMM prediction on 40 days obeservation is 0.4528301886792453\n",
      "The Accuracy of Training set by 10-HMM prediction on 45 days obeservation is 0.57\n",
      "The Sensitivity of Training set by 10-HMM prediction on 45 days obeservation is 0.5909090909090909\n",
      "The Specificity of Training set by 10-HMM prediction on 45 days obeservation is 0.5535714285714286\n",
      "The Accuracy of Training set by 10-HMM prediction on 50 days obeservation is 0.56\n",
      "The Sensitivity of Training set by 10-HMM prediction on 50 days obeservation is 0.6\n",
      "The Specificity of Training set by 10-HMM prediction on 50 days obeservation is 0.5272727272727272\n"
     ]
    }
   ],
   "source": [
    "observe_window = np.arange(5,55,5)\n",
    "\n",
    "for K in observe_window:\n",
    "    \n",
    "    iters = 0;\n",
    "    past_likelihood = []\n",
    "    while iters < 13670 - K:\n",
    "        past_likelihood = np.append(past_likelihood, model.score(np.flipud(training[iters:iters + K])))\n",
    "        iters = iters + 1\n",
    "    \n",
    "    likelihood_diff_idx_1 = []\n",
    "    past_similar = []\n",
    "\n",
    "    for i in range(13670 - K - 1,0,-1):\n",
    "        curr_likelihood = model.score(training[i:i+K])\n",
    "        likelihood_diff_idx = np.argmin(np.absolute(past_likelihood - curr_likelihood))\n",
    "        likelihood_diff_idx_1.append(likelihood_diff_idx+K+1)\n",
    "        past_similar.append(rise_or_drop[likelihood_diff_idx+K+1])\n",
    "    \n",
    "    cm = confusion_matrix(rise_or_drop[K:100+K],list(reversed(past_similar))[0:100])\n",
    "    accuracy1=(cm[0,0]+cm[1,1])/sum(sum(cm))\n",
    "    sensitivity1 = cm[0,0]/(cm[0,0]+cm[0,1])\n",
    "    specificity1 = cm[1,1]/(cm[1,0]+cm[1,1])\n",
    "\n",
    "    print(\"The Accuracy of Training set by 10-HMM prediction on\", K, \"days obeservation is\", accuracy1)\n",
    "    print(\"The Sensitivity of Training set by 10-HMM prediction on\", K, \"days obeservation is\", sensitivity1)\n",
    "    print(\"The Specificity of Training set by 10-HMM prediction on\", K, \"days obeservation is\", specificity1)\n"
   ]
  },
  {
   "cell_type": "markdown",
   "metadata": {},
   "source": [
    "## Testing"
   ]
  },
  {
   "cell_type": "code",
   "execution_count": 11,
   "metadata": {},
   "outputs": [],
   "source": [
    "# Training Result\n",
    "model = model.fit(testing)"
   ]
  },
  {
   "cell_type": "code",
   "execution_count": 12,
   "metadata": {},
   "outputs": [
    {
     "name": "stdout",
     "output_type": "stream",
     "text": [
      "The Accuracy of Testing set by 10-HMM prediction on 5 days obeservation is 0.485\n",
      "The Sensitivity of Testing set by 10-HMM prediction on 5 days obeservation is 0.4421052631578947\n",
      "The Specificity of Testing set by 10-HMM prediction on 5 days obeservation is 0.5238095238095238\n",
      "The Accuracy of Testing set by 10-HMM prediction on 10 days obeservation is 0.495\n",
      "The Sensitivity of Testing set by 10-HMM prediction on 10 days obeservation is 0.43157894736842106\n",
      "The Specificity of Testing set by 10-HMM prediction on 10 days obeservation is 0.5523809523809524\n",
      "The Accuracy of Testing set by 10-HMM prediction on 15 days obeservation is 0.51\n",
      "The Sensitivity of Testing set by 10-HMM prediction on 15 days obeservation is 0.4421052631578947\n",
      "The Specificity of Testing set by 10-HMM prediction on 15 days obeservation is 0.5714285714285714\n",
      "The Accuracy of Testing set by 10-HMM prediction on 20 days obeservation is 0.48\n",
      "The Sensitivity of Testing set by 10-HMM prediction on 20 days obeservation is 0.4\n",
      "The Specificity of Testing set by 10-HMM prediction on 20 days obeservation is 0.5523809523809524\n",
      "The Accuracy of Testing set by 10-HMM prediction on 25 days obeservation is 0.53\n",
      "The Sensitivity of Testing set by 10-HMM prediction on 25 days obeservation is 0.5157894736842106\n",
      "The Specificity of Testing set by 10-HMM prediction on 25 days obeservation is 0.5428571428571428\n",
      "The Accuracy of Testing set by 10-HMM prediction on 30 days obeservation is 0.545\n",
      "The Sensitivity of Testing set by 10-HMM prediction on 30 days obeservation is 0.5157894736842106\n",
      "The Specificity of Testing set by 10-HMM prediction on 30 days obeservation is 0.5714285714285714\n",
      "The Accuracy of Testing set by 10-HMM prediction on 35 days obeservation is 0.5\n",
      "The Sensitivity of Testing set by 10-HMM prediction on 35 days obeservation is 0.4842105263157895\n",
      "The Specificity of Testing set by 10-HMM prediction on 35 days obeservation is 0.5142857142857142\n",
      "The Accuracy of Testing set by 10-HMM prediction on 40 days obeservation is 0.485\n",
      "The Sensitivity of Testing set by 10-HMM prediction on 40 days obeservation is 0.45263157894736844\n",
      "The Specificity of Testing set by 10-HMM prediction on 40 days obeservation is 0.5142857142857142\n",
      "The Accuracy of Testing set by 10-HMM prediction on 45 days obeservation is 0.535\n",
      "The Sensitivity of Testing set by 10-HMM prediction on 45 days obeservation is 0.47368421052631576\n",
      "The Specificity of Testing set by 10-HMM prediction on 45 days obeservation is 0.5904761904761905\n",
      "The Accuracy of Testing set by 10-HMM prediction on 50 days obeservation is 0.49\n",
      "The Sensitivity of Testing set by 10-HMM prediction on 50 days obeservation is 0.43157894736842106\n",
      "The Specificity of Testing set by 10-HMM prediction on 50 days obeservation is 0.5428571428571428\n"
     ]
    }
   ],
   "source": [
    "observe_window = np.arange(5,55,5)\n",
    "\n",
    "for K in observe_window:\n",
    "    \n",
    "    iters = 0;\n",
    "    past_likelihood = []\n",
    "    while iters < 3650 - K:\n",
    "        past_likelihood = np.append(past_likelihood, model.score(np.flipud(testing[iters:iters + K])))\n",
    "        iters = iters + 1\n",
    "    \n",
    "    likelihood_diff_idx_1 = []\n",
    "    past_similar_test = []\n",
    "\n",
    "    for i in range(3650 - K - 1,0,-1):\n",
    "        curr_likelihood = model.score(testing[i:i+K])\n",
    "        likelihood_diff_idx = np.argmin(np.absolute(past_likelihood - curr_likelihood))\n",
    "        likelihood_diff_idx_1.append(likelihood_diff_idx+K+1)\n",
    "        past_similar_test.append(rise_or_drop[likelihood_diff_idx+K+1])\n",
    "    \n",
    "    cm = confusion_matrix(list(reversed(rise_or_drop))[0:200],past_similar_test[0:200])\n",
    "    accuracy1=(cm[0,0]+cm[1,1])/sum(sum(cm))\n",
    "    sensitivity1 = cm[0,0]/(cm[0,0]+cm[0,1])\n",
    "    specificity1 = cm[1,1]/(cm[1,0]+cm[1,1])\n",
    "\n",
    "    print(\"The Accuracy of Testing set by 10-HMM prediction on\", K, \"days obeservation is\", accuracy1)\n",
    "    print(\"The Sensitivity of Testing set by 10-HMM prediction on\", K, \"days obeservation is\", sensitivity1)\n",
    "    print(\"The Specificity of Testing set by 10-HMM prediction on\", K, \"days obeservation is\", specificity1)"
   ]
  },
  {
   "cell_type": "code",
   "execution_count": 14,
   "metadata": {},
   "outputs": [],
   "source": [
    "from sklearn import metrics\n",
    "from sklearn.metrics import accuracy_score"
   ]
  },
  {
   "cell_type": "code",
   "execution_count": 29,
   "metadata": {},
   "outputs": [],
   "source": [
    "K = 50\n",
    "iters = 0;\n",
    "past_likelihood = []\n",
    "while iters < 3650 - K:\n",
    "    past_likelihood = np.append(past_likelihood, model.score(np.flipud(testing[iters:iters + K])))\n",
    "    iters = iters + 1\n",
    "\n",
    "likelihood_diff_idx_1 = []\n",
    "past_similar_test = []\n",
    "\n",
    "for i in range(3650 - K - 1,0,-1):\n",
    "    curr_likelihood = model.score(testing[i:i+K])\n",
    "    likelihood_diff_idx = np.argmin(np.absolute(past_likelihood - curr_likelihood))\n",
    "    likelihood_diff_idx_1.append(likelihood_diff_idx+K+1)\n",
    "    past_similar_test.append(rise_or_drop[likelihood_diff_idx+K+1])\n",
    "\n",
    "cm = confusion_matrix(list(reversed(rise_or_drop))[0:200],past_similar_test[0:200])\n",
    "accuracy1=(cm[0,0]+cm[1,1])/sum(sum(cm))\n",
    "sensitivity1 = cm[0,0]/(cm[0,0]+cm[0,1])\n",
    "specificity1 = cm[1,1]/(cm[1,0]+cm[1,1])\n",
    "\n",
    "y_test = list(reversed(rise_or_drop))[0:100]\n",
    "y_test_score = past_similar_test[0:100]\n",
    "\n",
    "fpr_50, tpr_50, thr_50 = metrics.roc_curve(y_test,y_test_score)"
   ]
  },
  {
   "cell_type": "code",
   "execution_count": 30,
   "metadata": {},
   "outputs": [],
   "source": [
    "K = 45\n",
    "iters = 0;\n",
    "past_likelihood = []\n",
    "while iters < 3650 - K:\n",
    "    past_likelihood = np.append(past_likelihood, model.score(np.flipud(testing[iters:iters + K])))\n",
    "    iters = iters + 1\n",
    "\n",
    "likelihood_diff_idx_1 = []\n",
    "past_similar_test = []\n",
    "\n",
    "for i in range(3650 - K - 1,0,-1):\n",
    "    curr_likelihood = model.score(testing[i:i+K])\n",
    "    likelihood_diff_idx = np.argmin(np.absolute(past_likelihood - curr_likelihood))\n",
    "    likelihood_diff_idx_1.append(likelihood_diff_idx+K+1)\n",
    "    past_similar_test.append(rise_or_drop[likelihood_diff_idx+K+1])\n",
    "\n",
    "cm = confusion_matrix(list(reversed(rise_or_drop))[0:200],past_similar_test[0:200])\n",
    "accuracy1=(cm[0,0]+cm[1,1])/sum(sum(cm))\n",
    "sensitivity1 = cm[0,0]/(cm[0,0]+cm[0,1])\n",
    "specificity1 = cm[1,1]/(cm[1,0]+cm[1,1])\n",
    "\n",
    "y_test = list(reversed(rise_or_drop))[0:100]\n",
    "y_test_score = past_similar_test[0:100]\n",
    "\n",
    "fpr_45, tpr_45, thr_45 = metrics.roc_curve(y_test,y_test_score)"
   ]
  },
  {
   "cell_type": "code",
   "execution_count": 31,
   "metadata": {},
   "outputs": [],
   "source": [
    "K = 40\n",
    "iters = 0;\n",
    "past_likelihood = []\n",
    "while iters < 3650 - K:\n",
    "    past_likelihood = np.append(past_likelihood, model.score(np.flipud(testing[iters:iters + K])))\n",
    "    iters = iters + 1\n",
    "\n",
    "likelihood_diff_idx_1 = []\n",
    "past_similar_test = []\n",
    "\n",
    "for i in range(3650 - K - 1,0,-1):\n",
    "    curr_likelihood = model.score(testing[i:i+K])\n",
    "    likelihood_diff_idx = np.argmin(np.absolute(past_likelihood - curr_likelihood))\n",
    "    likelihood_diff_idx_1.append(likelihood_diff_idx+K+1)\n",
    "    past_similar_test.append(rise_or_drop[likelihood_diff_idx+K+1])\n",
    "\n",
    "cm = confusion_matrix(list(reversed(rise_or_drop))[0:200],past_similar_test[0:200])\n",
    "accuracy1=(cm[0,0]+cm[1,1])/sum(sum(cm))\n",
    "sensitivity1 = cm[0,0]/(cm[0,0]+cm[0,1])\n",
    "specificity1 = cm[1,1]/(cm[1,0]+cm[1,1])\n",
    "\n",
    "y_test = list(reversed(rise_or_drop))[0:100]\n",
    "y_test_score = past_similar_test[0:100]\n",
    "\n",
    "fpr_40, tpr_40, thr_40 = metrics.roc_curve(y_test,y_test_score)"
   ]
  },
  {
   "cell_type": "code",
   "execution_count": 32,
   "metadata": {},
   "outputs": [],
   "source": [
    "K = 35\n",
    "iters = 0;\n",
    "past_likelihood = []\n",
    "while iters < 3650 - K:\n",
    "    past_likelihood = np.append(past_likelihood, model.score(np.flipud(testing[iters:iters + K])))\n",
    "    iters = iters + 1\n",
    "\n",
    "likelihood_diff_idx_1 = []\n",
    "past_similar_test = []\n",
    "\n",
    "for i in range(3650 - K - 1,0,-1):\n",
    "    curr_likelihood = model.score(testing[i:i+K])\n",
    "    likelihood_diff_idx = np.argmin(np.absolute(past_likelihood - curr_likelihood))\n",
    "    likelihood_diff_idx_1.append(likelihood_diff_idx+K+1)\n",
    "    past_similar_test.append(rise_or_drop[likelihood_diff_idx+K+1])\n",
    "\n",
    "cm = confusion_matrix(list(reversed(rise_or_drop))[0:200],past_similar_test[0:200])\n",
    "accuracy1=(cm[0,0]+cm[1,1])/sum(sum(cm))\n",
    "sensitivity1 = cm[0,0]/(cm[0,0]+cm[0,1])\n",
    "specificity1 = cm[1,1]/(cm[1,0]+cm[1,1])\n",
    "\n",
    "y_test = list(reversed(rise_or_drop))[0:100]\n",
    "y_test_score = past_similar_test[0:100]\n",
    "\n",
    "fpr_35, tpr_35, thr_35 = metrics.roc_curve(y_test,y_test_score)"
   ]
  },
  {
   "cell_type": "code",
   "execution_count": 33,
   "metadata": {},
   "outputs": [],
   "source": [
    "K = 30\n",
    "iters = 0;\n",
    "past_likelihood = []\n",
    "while iters < 3650 - K:\n",
    "    past_likelihood = np.append(past_likelihood, model.score(np.flipud(testing[iters:iters + K])))\n",
    "    iters = iters + 1\n",
    "\n",
    "likelihood_diff_idx_1 = []\n",
    "past_similar_test = []\n",
    "\n",
    "for i in range(3650 - K - 1,0,-1):\n",
    "    curr_likelihood = model.score(testing[i:i+K])\n",
    "    likelihood_diff_idx = np.argmin(np.absolute(past_likelihood - curr_likelihood))\n",
    "    likelihood_diff_idx_1.append(likelihood_diff_idx+K+1)\n",
    "    past_similar_test.append(rise_or_drop[likelihood_diff_idx+K+1])\n",
    "\n",
    "cm = confusion_matrix(list(reversed(rise_or_drop))[0:200],past_similar_test[0:200])\n",
    "accuracy1=(cm[0,0]+cm[1,1])/sum(sum(cm))\n",
    "sensitivity1 = cm[0,0]/(cm[0,0]+cm[0,1])\n",
    "specificity1 = cm[1,1]/(cm[1,0]+cm[1,1])\n",
    "\n",
    "y_test = list(reversed(rise_or_drop))[0:1000]\n",
    "y_test_score = past_similar_test[0:1000]\n",
    "\n",
    "fpr_30, tpr_30, thr_30 = metrics.roc_curve(y_test,y_test_score)"
   ]
  },
  {
   "cell_type": "code",
   "execution_count": 20,
   "metadata": {},
   "outputs": [],
   "source": [
    "K = 25\n",
    "iters = 0;\n",
    "past_likelihood = []\n",
    "while iters < 3650 - K:\n",
    "    past_likelihood = np.append(past_likelihood, model.score(np.flipud(testing[iters:iters + K])))\n",
    "    iters = iters + 1\n",
    "\n",
    "likelihood_diff_idx_1 = []\n",
    "past_similar_test = []\n",
    "\n",
    "for i in range(3650 - K - 1,0,-1):\n",
    "    curr_likelihood = model.score(testing[i:i+K])\n",
    "    likelihood_diff_idx = np.argmin(np.absolute(past_likelihood - curr_likelihood))\n",
    "    likelihood_diff_idx_1.append(likelihood_diff_idx+K+1)\n",
    "    past_similar_test.append(rise_or_drop[likelihood_diff_idx+K+1])\n",
    "\n",
    "cm = confusion_matrix(list(reversed(rise_or_drop))[0:200],past_similar_test[0:200])\n",
    "accuracy1=(cm[0,0]+cm[1,1])/sum(sum(cm))\n",
    "sensitivity1 = cm[0,0]/(cm[0,0]+cm[0,1])\n",
    "specificity1 = cm[1,1]/(cm[1,0]+cm[1,1])\n",
    "\n",
    "y_test = list(reversed(rise_or_drop))[0:200]\n",
    "y_test_score = past_similar_test[0:200]\n",
    "\n",
    "fpr_25, tpr_25, thr_25 = metrics.roc_curve(y_test,y_test_score)"
   ]
  },
  {
   "cell_type": "code",
   "execution_count": 36,
   "metadata": {},
   "outputs": [
    {
     "data": {
      "image/png": "[encoded data removed]",
      "text/plain": [
       "<Figure size 720x432 with 1 Axes>"
      ]
     },
     "metadata": {},
     "output_type": "display_data"
    }
   ],
   "source": [
    "# Roc Curve\n",
    "plt.figure(figsize=(10,6))\n",
    "plt.plot(fpr_40, tpr_40,\n",
    "         label='30 Day Observatio ROC curve',\n",
    "         color='grey', linestyle=':', linewidth=4)\n",
    "\n",
    "plt.plot(fpr_50, tpr_50,\n",
    "         label='35 Day Observatio ROC curve',\n",
    "         color='navy', linestyle=':', linewidth=4)\n",
    "\n",
    "plt.plot(fpr_30, tpr_30,\n",
    "         label='40 Day Observatio ROC curve',\n",
    "         color='green', linestyle=':', linewidth=4)\n",
    "\n",
    "plt.plot(fpr_35, tpr_35,\n",
    "         label='45 Day Observatio ROC curve',\n",
    "         color='orange', linestyle=':', linewidth=4)\n",
    "\n",
    "plt.plot(fpr_45, tpr_45,\n",
    "         label='50 Day Observatio ROC curve',\n",
    "         color='red', linestyle=':', linewidth=4)\n",
    "\n",
    "\n",
    "plt.plot([0, 1], [0, 1], 'k--')\n",
    "plt.xlim([0.0, 1.0])\n",
    "plt.ylim([0.0, 1.05])\n",
    "plt.xlabel('1 - Specificity')\n",
    "plt.ylabel('Sensitivity')\n",
    "plt.title('ROC curves for the HMM performance on different observation windows')\n",
    "plt.legend(loc=\"lower right\")\n",
    "plt.show()"
   ]
  },
  {
   "cell_type": "code",
   "execution_count": 139,
   "metadata": {},
   "outputs": [],
   "source": [
    "K = 1\n",
    "iters = 0;\n",
    "past_likelihood = []\n",
    "while iters < 3650 - K:\n",
    "    past_likelihood = np.append(past_likelihood, model.score(np.flipud(testing[iters:iters + K])))\n",
    "    iters = iters + 1\n",
    "\n",
    "likelihood_diff_idx_1 = []\n",
    "past_similar_test = []\n",
    "\n",
    "for i in range(3650 - K - 1,0,-1):\n",
    "    curr_likelihood = model.score(testing[i:i+K])\n",
    "    likelihood_diff_idx = np.argmin(np.absolute(past_likelihood - curr_likelihood))\n",
    "    likelihood_diff_idx_1.append(likelihood_diff_idx+K+1)\n",
    "    past_similar_test.append(rise_or_drop[likelihood_diff_idx+K+1])\n",
    "\n",
    "cm = confusion_matrix(list(reversed(rise_or_drop))[0:200],past_similar_test[0:200])\n",
    "accuracy1=(cm[0,0]+cm[1,1])/sum(sum(cm))\n",
    "sensitivity1 = cm[0,0]/(cm[0,0]+cm[0,1])\n",
    "specificity1 = cm[1,1]/(cm[1,0]+cm[1,1])\n",
    "\n",
    "y_test = list(reversed(rise_or_drop))[0:200]\n",
    "y_test_score_ = past_similar_test[0:3000]"
   ]
  },
  {
   "cell_type": "code",
   "execution_count": 64,
   "metadata": {},
   "outputs": [],
   "source": [
    "from scipy import stats"
   ]
  },
  {
   "cell_type": "code",
   "execution_count": 83,
   "metadata": {},
   "outputs": [],
   "source": [
    "y_test = list(reversed(rise_or_drop))[0:3000]"
   ]
  },
  {
   "cell_type": "code",
   "execution_count": 89,
   "metadata": {},
   "outputs": [],
   "source": [
    "df = pd.DataFrame(list(zip(y_test_score,y_test_score_30)), \n",
    "                  columns=['45 OB','30 OB'])"
   ]
  },
  {
   "cell_type": "code",
   "execution_count": 135,
   "metadata": {},
   "outputs": [],
   "source": [
    "P_Value = []\n",
    "T_Test = []"
   ]
  },
  {
   "cell_type": "code",
   "execution_count": 141,
   "metadata": {},
   "outputs": [
    {
     "name": "stdout",
     "output_type": "stream",
     "text": [
      "Testing Set: t_statistic is 0.026 and p-value is 0.016515\n"
     ]
    }
   ],
   "source": [
    "\n",
    "t_test, p_value = stats.mstats.ttest_ind(y_test_score,y_test_score_)\n",
    "P_Value.append(p_value)\n",
    "T_Test.append(t_test)\n",
    "print(\"Testing Set: t_statistic is %0.3f and p-value is %0.6f\"% (t_stat, p_value))"
   ]
  },
  {
   "cell_type": "code",
   "execution_count": 143,
   "metadata": {},
   "outputs": [
    {
     "data": {
      "text/html": [
       "<div>\n",
       "<style scoped>\n",
       "    .dataframe tbody tr th:only-of-type {\n",
       "        vertical-align: middle;\n",
       "    }\n",
       "\n",
       "    .dataframe tbody tr th {\n",
       "        vertical-align: top;\n",
       "    }\n",
       "\n",
       "    .dataframe thead th {\n",
       "        text-align: right;\n",
       "    }\n",
       "</style>\n",
       "<table border=\"1\" class=\"dataframe\">\n",
       "  <thead>\n",
       "    <tr style=\"text-align: right;\">\n",
       "      <th></th>\n",
       "      <th>t-test</th>\n",
       "      <th>p-value</th>\n",
       "    </tr>\n",
       "  </thead>\n",
       "  <tbody>\n",
       "    <tr>\n",
       "      <th>0</th>\n",
       "      <td>2.149791</td>\n",
       "      <td>0.031612</td>\n",
       "    </tr>\n",
       "    <tr>\n",
       "      <th>1</th>\n",
       "      <td>-2.791421</td>\n",
       "      <td>0.005264</td>\n",
       "    </tr>\n",
       "    <tr>\n",
       "      <th>2</th>\n",
       "      <td>-2.398016</td>\n",
       "      <td>0.016515</td>\n",
       "    </tr>\n",
       "    <tr>\n",
       "      <th>3</th>\n",
       "      <td>-2.398016</td>\n",
       "      <td>0.016515</td>\n",
       "    </tr>\n",
       "  </tbody>\n",
       "</table>\n",
       "</div>"
      ],
      "text/plain": [
       "     t-test   p-value\n",
       "0  2.149791  0.031612\n",
       "1 -2.791421  0.005264\n",
       "2 -2.398016  0.016515\n",
       "3 -2.398016  0.016515"
      ]
     },
     "execution_count": 143,
     "metadata": {},
     "output_type": "execute_result"
    }
   ],
   "source": [
    "df = pd.DataFrame(list(zip(T_Test,P_Value)), \n",
    "                  columns=['t-test','p-value'])\n",
    "df"
   ]
  },
  {
   "cell_type": "code",
   "execution_count": 84,
   "metadata": {},
   "outputs": [
    {
     "name": "stdout",
     "output_type": "stream",
     "text": [
      "Testing Set: t_statistic is 0.804 and p-value is 0.421509\n",
      "training Set: t_statistic is -0.494 and p-value is 0.621664\n",
      "Testing Set: t_statistic is 0.208 and p-value is 0.835553\n",
      "Testing Set: t_statistic is 0.026 and p-value is 0.979294\n"
     ]
    }
   ],
   "source": [
    "#Calculate the t-test statistics and p-value for testing set\n",
    "t_stat, p_value = stats.ttest_ind(y_test_score,y_test_score_30)\n",
    "print(\"Testing Set: t_statistic is %0.3f and p-value is %0.6f\"% (t_stat, p_value))\n",
    "\n",
    "df = pd.DataFrame(list(zip(y_test_score,y_test_score_35)), \n",
    "                  columns=['45 OB','35 OB'])\n",
    "\n",
    "#Calculate the t-train statistics and p-value for training set\n",
    "t_stat, p_value = stats.ttest_ind(y_test_score,y_test_score_35)\n",
    "print(\"training Set: t_statistic is %0.3f and p-value is %0.6f\"% (t_stat, p_value))\n",
    "\n",
    "df = pd.DataFrame(list(zip(y_test_score,y_test_score_40)), \n",
    "                  columns=['45 OB','40 OB'])\n",
    "\n",
    "#Calculate the t-test statistics and p-value for testing set\n",
    "t_stat, p_value = stats.ttest_ind(y_test_score,y_test_score_40)\n",
    "print(\"Testing Set: t_statistic is %0.3f and p-value is %0.6f\"% (t_stat, p_value))\n",
    "\n",
    "df = pd.DataFrame(list(zip(y_test_score,y_test_score_50)), \n",
    "                  columns=['45 OB','50 OB'])\n",
    "\n",
    "#Calculate the t-test statistics and p-value for testing set\n",
    "t_stat, p_value = stats.ttest_ind(y_test_score,y_test_score_50)\n",
    "print(\"Testing Set: t_statistic is %0.3f and p-value is %0.6f\"% (t_stat, p_value))"
   ]
  },
  {
   "cell_type": "code",
   "execution_count": null,
   "metadata": {},
   "outputs": [],
   "source": []
  }
 ],
 "metadata": {
  "kernelspec": {
   "display_name": "Python 3",
   "language": "python",
   "name": "python3"
  },
  "language_info": {
   "codemirror_mode": {
    "name": "ipython",
    "version": 3
   },
   "file_extension": ".py",
   "mimetype": "text/x-python",
   "name": "python",
   "nbconvert_exporter": "python",
   "pygments_lexer": "ipython3",
   "version": "3.6.4"
  }
 },
 "nbformat": 4,
 "nbformat_minor": 2
}
