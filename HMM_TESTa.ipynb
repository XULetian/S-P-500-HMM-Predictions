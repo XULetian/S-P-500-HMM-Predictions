{
 "cells": [
  {
   "cell_type": "code",
   "execution_count": 1,
   "metadata": {},
   "outputs": [],
   "source": [
    "import warnings\n",
    "import time\n",
    "import datetime\n",
    "import sys\n",
    "import numpy as np\n",
    "\n",
    "from matplotlib import cm, pyplot as plt\n",
    "import matplotlib.dates as dates\n",
    "from hmmlearn import hmm\n",
    "\n",
    "import random\n",
    "import pandas as pd\n",
    "from scipy import stats\n",
    "from sklearn import preprocessing\n",
    "\n",
    "pd.options.mode.use_inf_as_na = True"
   ]
  },
  {
   "cell_type": "code",
   "execution_count": 3,
   "metadata": {},
   "outputs": [],
   "source": [
    "df = pd.read_csv('SP500.csv')"
   ]
  },
  {
   "cell_type": "code",
   "execution_count": 4,
   "metadata": {},
   "outputs": [],
   "source": [
    "date_list = pd.to_datetime(df['Date'])\n",
    "volume_list = df['Volume']\n",
    "open_list = df['Volume']\n",
    "close_list = df['Close']"
   ]
  },
  {
   "cell_type": "code",
   "execution_count": 47,
   "metadata": {},
   "outputs": [
    {
     "data": {
      "text/plain": [
       "[<matplotlib.lines.Line2D at 0x11e60a198>]"
      ]
     },
     "execution_count": 47,
     "metadata": {},
     "output_type": "execute_result"
    },
    {
     "data": {
      "image/png": "[encoded data removed]",
      "text/plain": [
       "<Figure size 432x288 with 1 Axes>"
      ]
     },
     "metadata": {},
     "output_type": "display_data"
    }
   ],
   "source": [
    "plt.plot(close_list)"
   ]
  },
  {
   "cell_type": "code",
   "execution_count": 60,
   "metadata": {},
   "outputs": [],
   "source": [
    "# feature 1\n",
    "# everyday's closing prices' difference in percentage \n",
    "feature_1=np.diff(close_list)/close_list[:-1]"
   ]
  },
  {
   "cell_type": "code",
   "execution_count": 61,
   "metadata": {},
   "outputs": [],
   "source": [
    "# feature 2\n",
    "# everday's volume\n",
    "feature_2=volume_list[1:]"
   ]
  },
  {
   "cell_type": "code",
   "execution_count": 62,
   "metadata": {},
   "outputs": [],
   "source": [
    "# create dataset\n",
    "x=np.c_[feature_1,feature_2]"
   ]
  },
  {
   "cell_type": "code",
   "execution_count": 63,
   "metadata": {},
   "outputs": [],
   "source": [
    "# build HMM model\n",
    "from hmmlearn.hmm import GaussianHMM\n",
    "model=GaussianHMM(n_components=10,n_iter=1000,covariance_type='full') # 10 hidden states"
   ]
  },
  {
   "cell_type": "code",
   "execution_count": 64,
   "metadata": {},
   "outputs": [],
   "source": [
    "model = model.fit(x)"
   ]
  },
  {
   "cell_type": "code",
   "execution_count": 65,
   "metadata": {},
   "outputs": [
    {
     "data": {
      "text/plain": [
       "array([2, 2, 2, ..., 3, 3, 3])"
      ]
     },
     "execution_count": 65,
     "metadata": {},
     "output_type": "execute_result"
    }
   ],
   "source": [
    "# most likely state sequence corresponding to dataset\n",
    "hidden_states = model.predict(x)\n",
    "hidden_states"
   ]
  },
  {
   "cell_type": "code",
   "execution_count": 66,
   "metadata": {},
   "outputs": [
    {
     "data": {
      "text/plain": [
       "array([2, 2, 2, 2, 2, 2, 2, 2, 2, 2, 2, 2, 2, 2, 2, 2, 2, 2, 2, 2, 2, 2,\n",
       "       2, 2, 2, 2, 2, 2, 2, 2, 2, 2, 2, 2, 2, 2, 2, 2, 2, 2, 2, 2, 2, 2,\n",
       "       2, 2, 2, 2, 2, 2, 2, 2, 2, 2, 2, 2, 2, 2, 2, 2, 2, 2, 2, 2, 2, 2,\n",
       "       2, 2, 2, 2, 2, 2, 2, 2, 2, 2, 2, 2, 2, 2, 2, 2, 2, 2, 2, 2, 2, 2,\n",
       "       2, 2, 2, 2, 2, 2, 2, 2, 2, 2, 2])"
      ]
     },
     "execution_count": 66,
     "metadata": {},
     "output_type": "execute_result"
    }
   ],
   "source": [
    "hidden_states[1:100]"
   ]
  },
  {
   "cell_type": "code",
   "execution_count": 67,
   "metadata": {},
   "outputs": [
    {
     "name": "stdout",
     "output_type": "stream",
     "text": [
      "Transition matrix:  [[9.96820463e-001 0.00000000e+000 2.76150273e-141 0.00000000e+000\n",
      "  3.19932430e-167 5.91037182e-004 8.87006610e-309 8.62571636e-004\n",
      "  1.72592797e-003 0.00000000e+000]\n",
      " [0.00000000e+000 8.98683514e-001 0.00000000e+000 1.28858042e-002\n",
      "  5.50622802e-080 0.00000000e+000 1.84394381e-002 9.03382792e-004\n",
      "  0.00000000e+000 6.90878608e-002]\n",
      " [6.01010488e-127 0.00000000e+000 9.98075330e-001 0.00000000e+000\n",
      "  0.00000000e+000 0.00000000e+000 0.00000000e+000 3.75829866e-076\n",
      "  1.92466981e-003 0.00000000e+000]\n",
      " [0.00000000e+000 2.55673104e-002 0.00000000e+000 8.55335531e-001\n",
      "  1.96639825e-003 0.00000000e+000 3.80264479e-003 1.76088927e-002\n",
      "  0.00000000e+000 9.57192225e-002]\n",
      " [4.64417710e-155 2.13141188e-072 0.00000000e+000 1.28030063e-003\n",
      "  9.96718866e-001 7.17915568e-004 1.28291798e-003 1.38347857e-051\n",
      "  4.59367910e-318 1.08609233e-030]\n",
      " [7.41694002e-004 0.00000000e+000 0.00000000e+000 1.73207565e-292\n",
      "  1.51408218e-003 9.97744224e-001 2.71737504e-197 2.41720737e-086\n",
      "  1.16416237e-148 1.20053996e-312]\n",
      " [1.31189811e-253 2.53117651e-002 0.00000000e+000 2.60357744e-003\n",
      "  3.67083610e-003 3.39935736e-200 9.40351074e-001 1.87021524e-003\n",
      "  0.00000000e+000 2.61925319e-002]\n",
      " [1.37423369e-002 4.96809207e-034 1.43838221e-156 5.02116776e-002\n",
      "  3.75494132e-004 5.09255774e-052 5.09561367e-003 9.30574878e-001\n",
      "  4.26732805e-106 1.01398451e-013]\n",
      " [2.15753933e-003 0.00000000e+000 2.01006079e-003 0.00000000e+000\n",
      "  0.00000000e+000 6.47890666e-162 0.00000000e+000 6.56894095e-062\n",
      "  9.95832400e-001 0.00000000e+000]\n",
      " [0.00000000e+000 5.68472591e-002 0.00000000e+000 5.23526299e-002\n",
      "  2.31885514e-040 0.00000000e+000 9.31587158e-003 5.52108940e-016\n",
      "  0.00000000e+000 8.81484239e-001]]\n"
     ]
    }
   ],
   "source": [
    "# Matrix of transition probabilities between states.\n",
    "print (\"Transition matrix: \", model.transmat_)"
   ]
  },
  {
   "cell_type": "code",
   "execution_count": 68,
   "metadata": {},
   "outputs": [
    {
     "name": "stdout",
     "output_type": "stream",
     "text": [
      "Means and vars of each hidden state\n",
      "0th hidden state\n",
      "mean =  [5.82055993e-04 1.15556349e+08]\n",
      "var =  [[8.59490977e-05 4.34261017e+04]\n",
      " [4.34261017e+04 3.60239039e+15]]\n",
      "\n",
      "1th hidden state\n",
      "mean =  [8.33303149e-04 3.14063767e+09]\n",
      "var =  [[ 4.19310812e-05 -1.20831537e+05]\n",
      " [-1.20831537e+05  9.68496587e+16]]\n",
      "\n",
      "2th hidden state\n",
      "mean =  [4.72602283e-04 2.92671077e+06]\n",
      "var =  [[4.74289398e-05 2.96053641e+02]\n",
      " [2.96053641e+02 1.84524439e+12]]\n",
      "\n",
      "3th hidden state\n",
      "mean =  [-1.94969120e-04  4.93409291e+09]\n",
      "var =  [[ 2.29753873e-04 -6.59069396e+05]\n",
      " [-6.59069396e+05  4.83456283e+17]]\n",
      "\n",
      "4th hidden state\n",
      "mean =  [7.74446666e-05 1.18584027e+09]\n",
      "var =  [[1.67271682e-04 1.15007797e+05]\n",
      " [1.15007797e+05 1.06643762e+17]]\n",
      "\n",
      "5th hidden state\n",
      "mean =  [7.53384024e-04 3.83425452e+08]\n",
      "var =  [[5.74753243e-05 6.63885156e+04]\n",
      " [6.63885156e+04 1.70094450e+16]]\n",
      "\n",
      "6th hidden state\n",
      "mean =  [3.32728014e-04 2.21872926e+09]\n",
      "var =  [[5.74810437e-05 3.26605340e+04]\n",
      " [3.26605340e+04 1.53602941e+17]]\n",
      "\n",
      "7th hidden state\n",
      "mean =  [-3.41781294e-03  6.12708530e+09]\n",
      "var =  [[1.36324402e-03 1.06138734e+07]\n",
      " [1.06138734e+07 3.84146514e+18]]\n",
      "\n",
      "8th hidden state\n",
      "mean =  [1.78635703e-05 1.50685038e+07]\n",
      "var =  [[7.10443696e-05 6.63092675e+03]\n",
      " [6.63092675e+03 3.24287925e+13]]\n",
      "\n",
      "9th hidden state\n",
      "mean =  [5.22641053e-04 3.81473780e+09]\n",
      "var =  [[ 8.66317070e-05 -1.78750746e+05]\n",
      " [-1.78750746e+05  1.30616098e+17]]\n",
      "\n"
     ]
    }
   ],
   "source": [
    "# Mean and Covariance parameters for each state.\n",
    "print(\"Means and vars of each hidden state\")\n",
    "for i in range(model.n_components):\n",
    "    print(\"{0}th hidden state\".format(i))\n",
    "    print(\"mean = \", model.means_[i])\n",
    "    print(\"var = \", model.covars_[i])\n",
    "    print()"
   ]
  },
  {
   "cell_type": "code",
   "execution_count": 91,
   "metadata": {},
   "outputs": [],
   "source": [
    "predict_diff, predict_seq = model.sample(17000, random_state=540)"
   ]
  },
  {
   "cell_type": "code",
   "execution_count": 92,
   "metadata": {},
   "outputs": [
    {
     "data": {
      "text/plain": [
       "16.66"
      ]
     },
     "execution_count": 92,
     "metadata": {},
     "output_type": "execute_result"
    }
   ],
   "source": [
    "close_list[0]"
   ]
  },
  {
   "cell_type": "code",
   "execution_count": 93,
   "metadata": {},
   "outputs": [],
   "source": [
    "predict_diff_0 = predict_diff[:,0]"
   ]
  },
  {
   "cell_type": "code",
   "execution_count": 94,
   "metadata": {},
   "outputs": [
    {
     "data": {
      "text/plain": [
       "array([ 0.00034064,  0.00626487,  0.00676279, ...,  0.00304498,\n",
       "       -0.00841896,  0.00288951])"
      ]
     },
     "execution_count": 94,
     "metadata": {},
     "output_type": "execute_result"
    }
   ],
   "source": [
    "predict_diff_0"
   ]
  },
  {
   "cell_type": "code",
   "execution_count": 95,
   "metadata": {},
   "outputs": [],
   "source": [
    "a = predict_diff_0.tolist()\n",
    "result = []\n",
    "result.append((1+a[0])*close_list[0])\n",
    "for i in range(1, len(a)):\n",
    "    result.append(result[-1] * (1+a[i]))"
   ]
  },
  {
   "cell_type": "code",
   "execution_count": 96,
   "metadata": {},
   "outputs": [
    {
     "data": {
      "text/plain": [
       "[<matplotlib.lines.Line2D at 0x13080a0b8>]"
      ]
     },
     "execution_count": 96,
     "metadata": {},
     "output_type": "execute_result"
    },
    {
     "data": {
      "image/png": "[encoded data removed]",
      "text/plain": [
       "<Figure size 432x288 with 1 Axes>"
      ]
     },
     "metadata": {},
     "output_type": "display_data"
    }
   ],
   "source": [
    "plt.plot(result)"
   ]
  },
  {
   "cell_type": "code",
   "execution_count": 99,
   "metadata": {},
   "outputs": [
    {
     "data": {
      "text/plain": [
       "[<matplotlib.lines.Line2D at 0x1304f2dd8>]"
      ]
     },
     "execution_count": 99,
     "metadata": {},
     "output_type": "execute_result"
    },
    {
     "data": {
      "image/png": "[encoded data removed]",
      "text/plain": [
       "<Figure size 432x288 with 1 Axes>"
      ]
     },
     "metadata": {},
     "output_type": "display_data"
    }
   ],
   "source": [
    "predict_diff, predict_seq = model.sample(17000, random_state=1)\n",
    "predict_diff_0 = predict_diff[:,0]\n",
    "\n",
    "a = predict_diff_0.tolist()\n",
    "result = []\n",
    "result.append((1+a[0])*close_list[0])\n",
    "for i in range(1, len(a)):\n",
    "    result.append(result[-1] * (1+a[i]))\n",
    "    \n",
    "plt.plot(result)"
   ]
  },
  {
   "cell_type": "code",
   "execution_count": 77,
   "metadata": {},
   "outputs": [
    {
     "ename": "NameError",
     "evalue": "name 'Date' is not defined",
     "output_type": "error",
     "traceback": [
      "\u001b[0;31m---------------------------------------------------------------------------\u001b[0m",
      "\u001b[0;31mNameError\u001b[0m                                 Traceback (most recent call last)",
      "\u001b[0;32m<ipython-input-77-f9e9192fa98d>\u001b[0m in \u001b[0;36m<module>\u001b[0;34m()\u001b[0m\n\u001b[1;32m      5\u001b[0m     \u001b[0;31m# Use fancy indexing to plot data in each state.\u001b[0m\u001b[0;34m\u001b[0m\u001b[0;34m\u001b[0m\u001b[0m\n\u001b[1;32m      6\u001b[0m     \u001b[0mmask\u001b[0m \u001b[0;34m=\u001b[0m \u001b[0mhidden_states\u001b[0m \u001b[0;34m==\u001b[0m \u001b[0mi\u001b[0m\u001b[0;34m\u001b[0m\u001b[0m\n\u001b[0;32m----> 7\u001b[0;31m     \u001b[0max\u001b[0m\u001b[0;34m.\u001b[0m\u001b[0mplot_date\u001b[0m\u001b[0;34m(\u001b[0m\u001b[0mDate\u001b[0m\u001b[0;34m[\u001b[0m\u001b[0mmask\u001b[0m\u001b[0;34m]\u001b[0m\u001b[0;34m,\u001b[0m \u001b[0mClose\u001b[0m\u001b[0;34m[\u001b[0m\u001b[0mmask\u001b[0m\u001b[0;34m]\u001b[0m\u001b[0;34m,\u001b[0m \u001b[0;34m\".-\"\u001b[0m\u001b[0;34m,\u001b[0m \u001b[0mc\u001b[0m\u001b[0;34m=\u001b[0m\u001b[0mcolour\u001b[0m\u001b[0;34m)\u001b[0m\u001b[0;34m\u001b[0m\u001b[0m\n\u001b[0m\u001b[1;32m      8\u001b[0m     \u001b[0max\u001b[0m\u001b[0;34m.\u001b[0m\u001b[0mset_title\u001b[0m\u001b[0;34m(\u001b[0m\u001b[0;34m\"{0}th hidden state\"\u001b[0m\u001b[0;34m.\u001b[0m\u001b[0mformat\u001b[0m\u001b[0;34m(\u001b[0m\u001b[0mi\u001b[0m\u001b[0;34m)\u001b[0m\u001b[0;34m)\u001b[0m\u001b[0;34m\u001b[0m\u001b[0m\n\u001b[1;32m      9\u001b[0m \u001b[0;34m\u001b[0m\u001b[0m\n",
      "\u001b[0;31mNameError\u001b[0m: name 'Date' is not defined"
     ]
    },
    {
     "data": {
      "image/png": "[encoded data removed]",
      "text/plain": [
       "<Figure size 432x288 with 10 Axes>"
      ]
     },
     "metadata": {},
     "output_type": "display_data"
    }
   ],
   "source": [
    "# 画图描述\n",
    "fig, axs = plt.subplots(model.n_components, sharex=True, sharey=True)\n",
    "colours = cm.rainbow(np.linspace(0, 1, model.n_components))\n",
    "for i, (ax, colour) in enumerate(zip(axs, colours)):\n",
    "    # Use fancy indexing to plot data in each state.\n",
    "    mask = hidden_states == i\n",
    "    ax.plot_date(Date[mask], Close[mask], \".-\", c=colour)\n",
    "    ax.set_title(\"{0}th hidden state\".format(i))\n",
    "\n",
    "    # Format the ticks.\n",
    "    ax.xaxis.set_major_locator(YearLocator())\n",
    "    ax.xaxis.set_minor_locator(MonthLocator())\n",
    "\n",
    "    ax.grid(True)\n",
    "\n",
    "plt.show()"
   ]
  },
  {
   "cell_type": "code",
   "execution_count": null,
   "metadata": {},
   "outputs": [],
   "source": [
    "plt.figure(figsize=(25,18))\n",
    "for i in range(model.n_components):\n",
    "    pos = (hidden_states == i)\n",
    "    plt.plot_date(Date[pos],Close[pos],'o',label='hidden state %d'%i,lw=2)\n",
    "    plt.legend(loc='upper left')"
   ]
  },
  {
   "cell_type": "code",
   "execution_count": null,
   "metadata": {},
   "outputs": [],
   "source": []
  }
 ],
 "metadata": {
  "kernelspec": {
   "display_name": "Python 3",
   "language": "python",
   "name": "python3"
  },
  "language_info": {
   "codemirror_mode": {
    "name": "ipython",
    "version": 3
   },
   "file_extension": ".py",
   "mimetype": "text/x-python",
   "name": "python",
   "nbconvert_exporter": "python",
   "pygments_lexer": "ipython3",
   "version": "3.6.4"
  }
 },
 "nbformat": 4,
 "nbformat_minor": 2
}
